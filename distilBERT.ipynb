{
  "cells": [
    {
      "cell_type": "code",
      "execution_count": 1,
      "metadata": {
        "id": "Smy9_-SnAqOM"
      },
      "outputs": [],
      "source": [
        "import numpy as np\n",
        "import pandas as pd\n",
        "import matplotlib.pyplot as plt\n",
        "import torch\n",
        "import seaborn as sns\n",
        "from sklearn.metrics import accuracy_score, precision_recall_fscore_support"
      ]
    },
    {
      "cell_type": "code",
      "execution_count": 2,
      "metadata": {
        "colab": {
          "base_uri": "https://localhost:8080/",
          "height": 79
        },
        "id": "9gVT4NceamOx",
        "outputId": "6cdbe8cf-7daa-457e-ecae-f00f7ed53e8f"
      },
      "outputs": [
        {
          "data": {
            "text/html": [
              "\n",
              "     <input type=\"file\" id=\"files-be136d70-75ef-42e0-aee6-1cba7ca99f4b\" name=\"files[]\" multiple disabled\n",
              "        style=\"border:none\" />\n",
              "     <output id=\"result-be136d70-75ef-42e0-aee6-1cba7ca99f4b\">\n",
              "      Upload widget is only available when the cell has been executed in the\n",
              "      current browser session. Please rerun this cell to enable.\n",
              "      </output>\n",
              "      <script>// Copyright 2017 Google LLC\n",
              "//\n",
              "// Licensed under the Apache License, Version 2.0 (the \"License\");\n",
              "// you may not use this file except in compliance with the License.\n",
              "// You may obtain a copy of the License at\n",
              "//\n",
              "//      http://www.apache.org/licenses/LICENSE-2.0\n",
              "//\n",
              "// Unless required by applicable law or agreed to in writing, software\n",
              "// distributed under the License is distributed on an \"AS IS\" BASIS,\n",
              "// WITHOUT WARRANTIES OR CONDITIONS OF ANY KIND, either express or implied.\n",
              "// See the License for the specific language governing permissions and\n",
              "// limitations under the License.\n",
              "\n",
              "/**\n",
              " * @fileoverview Helpers for google.colab Python module.\n",
              " */\n",
              "(function(scope) {\n",
              "function span(text, styleAttributes = {}) {\n",
              "  const element = document.createElement('span');\n",
              "  element.textContent = text;\n",
              "  for (const key of Object.keys(styleAttributes)) {\n",
              "    element.style[key] = styleAttributes[key];\n",
              "  }\n",
              "  return element;\n",
              "}\n",
              "\n",
              "// Max number of bytes which will be uploaded at a time.\n",
              "const MAX_PAYLOAD_SIZE = 100 * 1024;\n",
              "\n",
              "function _uploadFiles(inputId, outputId) {\n",
              "  const steps = uploadFilesStep(inputId, outputId);\n",
              "  const outputElement = document.getElementById(outputId);\n",
              "  // Cache steps on the outputElement to make it available for the next call\n",
              "  // to uploadFilesContinue from Python.\n",
              "  outputElement.steps = steps;\n",
              "\n",
              "  return _uploadFilesContinue(outputId);\n",
              "}\n",
              "\n",
              "// This is roughly an async generator (not supported in the browser yet),\n",
              "// where there are multiple asynchronous steps and the Python side is going\n",
              "// to poll for completion of each step.\n",
              "// This uses a Promise to block the python side on completion of each step,\n",
              "// then passes the result of the previous step as the input to the next step.\n",
              "function _uploadFilesContinue(outputId) {\n",
              "  const outputElement = document.getElementById(outputId);\n",
              "  const steps = outputElement.steps;\n",
              "\n",
              "  const next = steps.next(outputElement.lastPromiseValue);\n",
              "  return Promise.resolve(next.value.promise).then((value) => {\n",
              "    // Cache the last promise value to make it available to the next\n",
              "    // step of the generator.\n",
              "    outputElement.lastPromiseValue = value;\n",
              "    return next.value.response;\n",
              "  });\n",
              "}\n",
              "\n",
              "/**\n",
              " * Generator function which is called between each async step of the upload\n",
              " * process.\n",
              " * @param {string} inputId Element ID of the input file picker element.\n",
              " * @param {string} outputId Element ID of the output display.\n",
              " * @return {!Iterable<!Object>} Iterable of next steps.\n",
              " */\n",
              "function* uploadFilesStep(inputId, outputId) {\n",
              "  const inputElement = document.getElementById(inputId);\n",
              "  inputElement.disabled = false;\n",
              "\n",
              "  const outputElement = document.getElementById(outputId);\n",
              "  outputElement.innerHTML = '';\n",
              "\n",
              "  const pickedPromise = new Promise((resolve) => {\n",
              "    inputElement.addEventListener('change', (e) => {\n",
              "      resolve(e.target.files);\n",
              "    });\n",
              "  });\n",
              "\n",
              "  const cancel = document.createElement('button');\n",
              "  inputElement.parentElement.appendChild(cancel);\n",
              "  cancel.textContent = 'Cancel upload';\n",
              "  const cancelPromise = new Promise((resolve) => {\n",
              "    cancel.onclick = () => {\n",
              "      resolve(null);\n",
              "    };\n",
              "  });\n",
              "\n",
              "  // Wait for the user to pick the files.\n",
              "  const files = yield {\n",
              "    promise: Promise.race([pickedPromise, cancelPromise]),\n",
              "    response: {\n",
              "      action: 'starting',\n",
              "    }\n",
              "  };\n",
              "\n",
              "  cancel.remove();\n",
              "\n",
              "  // Disable the input element since further picks are not allowed.\n",
              "  inputElement.disabled = true;\n",
              "\n",
              "  if (!files) {\n",
              "    return {\n",
              "      response: {\n",
              "        action: 'complete',\n",
              "      }\n",
              "    };\n",
              "  }\n",
              "\n",
              "  for (const file of files) {\n",
              "    const li = document.createElement('li');\n",
              "    li.append(span(file.name, {fontWeight: 'bold'}));\n",
              "    li.append(span(\n",
              "        `(${file.type || 'n/a'}) - ${file.size} bytes, ` +\n",
              "        `last modified: ${\n",
              "            file.lastModifiedDate ? file.lastModifiedDate.toLocaleDateString() :\n",
              "                                    'n/a'} - `));\n",
              "    const percent = span('0% done');\n",
              "    li.appendChild(percent);\n",
              "\n",
              "    outputElement.appendChild(li);\n",
              "\n",
              "    const fileDataPromise = new Promise((resolve) => {\n",
              "      const reader = new FileReader();\n",
              "      reader.onload = (e) => {\n",
              "        resolve(e.target.result);\n",
              "      };\n",
              "      reader.readAsArrayBuffer(file);\n",
              "    });\n",
              "    // Wait for the data to be ready.\n",
              "    let fileData = yield {\n",
              "      promise: fileDataPromise,\n",
              "      response: {\n",
              "        action: 'continue',\n",
              "      }\n",
              "    };\n",
              "\n",
              "    // Use a chunked sending to avoid message size limits. See b/62115660.\n",
              "    let position = 0;\n",
              "    do {\n",
              "      const length = Math.min(fileData.byteLength - position, MAX_PAYLOAD_SIZE);\n",
              "      const chunk = new Uint8Array(fileData, position, length);\n",
              "      position += length;\n",
              "\n",
              "      const base64 = btoa(String.fromCharCode.apply(null, chunk));\n",
              "      yield {\n",
              "        response: {\n",
              "          action: 'append',\n",
              "          file: file.name,\n",
              "          data: base64,\n",
              "        },\n",
              "      };\n",
              "\n",
              "      let percentDone = fileData.byteLength === 0 ?\n",
              "          100 :\n",
              "          Math.round((position / fileData.byteLength) * 100);\n",
              "      percent.textContent = `${percentDone}% done`;\n",
              "\n",
              "    } while (position < fileData.byteLength);\n",
              "  }\n",
              "\n",
              "  // All done.\n",
              "  yield {\n",
              "    response: {\n",
              "      action: 'complete',\n",
              "    }\n",
              "  };\n",
              "}\n",
              "\n",
              "scope.google = scope.google || {};\n",
              "scope.google.colab = scope.google.colab || {};\n",
              "scope.google.colab._files = {\n",
              "  _uploadFiles,\n",
              "  _uploadFilesContinue,\n",
              "};\n",
              "})(self);\n",
              "</script> "
            ],
            "text/plain": [
              "<IPython.core.display.HTML object>"
            ]
          },
          "metadata": {},
          "output_type": "display_data"
        },
        {
          "name": "stdout",
          "output_type": "stream",
          "text": [
            "Saving emails.csv to emails.csv\n"
          ]
        }
      ],
      "source": [
        "from google.colab import files\n",
        "uploaded = files.upload()"
      ]
    },
    {
      "cell_type": "code",
      "execution_count": 3,
      "metadata": {
        "colab": {
          "base_uri": "https://localhost:8080/",
          "height": 363
        },
        "id": "ZNncLUtHcp5A",
        "outputId": "8406dcae-5543-4775-e59a-8f1962612daf"
      },
      "outputs": [
        {
          "data": {
            "application/vnd.google.colaboratory.intrinsic+json": {
              "summary": "{\n  \"name\": \"pf\",\n  \"rows\": 6360,\n  \"fields\": [\n    {\n      \"column\": \"text\",\n      \"properties\": {\n        \"dtype\": \"string\",\n        \"num_unique_values\": 6360,\n        \"samples\": [\n          \"View the Top 20 Sessions at TechMentor San Francisco \\n\\n\\n\\nView the Top 20 Sessions at TechMentor San Francisco\\n\\n\\n\\n\\n\\n\\n\\n\\n\\n\\n\\nAdd the Most Anticipated TechMentor  Sessions to Your SF Agenda\\nPLUS, Register by March 5th and Save  $200 \\n\\nSign up for a Gold Passport \\nby Wednesday, March 5. \\nSave $200 and get a FREE \\nUltimate USB Security  Stick\\n \\nUse priority code TMTOP\\n\\nYour peers  are already saving their spots for   TechMentor San  Francisco (March 30-April 3 at the Moscone Center West). Check out the top twenty  sessions\\u2014the ones most visited on our conference Web site\\u2014then, add these  interesting topics to your agenda for SF. \\nDon\\u2019t forget, our Early Bird Deadline of March 5th is right around the corner\\u2014it\\u2019s the last day to save $200 AND claim your  free   Ultimate USB  Security Stick. Register online today at   www.techmentorevents.com/sf or  call (800) 280-6218 to speak to a customer service representative. To take  advantage of this special San    Francisco deal, be sure to mention Priority Code TMTOP. \\n\\n\\nTop 20 San Francisco Sessions\\n\\nSpecial SF Hotel Offers\\n\\n\\nTop 20 SF Sessions Chosen by Your Peers \\n Windows Server  Technologies \\u2013 Top Picks \\n Managing DNS in a  Server 2008 Active Directory Environment\\nRhonda Layfield\\n        DNS  is possibly the most important technology in your environment, without it bad  things happen to Active Directory and just try to access the Internet. In this  session Rhonda will start with basic concepts such as DNS zone types, resource  records and how to secure them.   [More]\\n Unveiling What\\u2019s  New & Exciting in Server 2008\\u2019s Terminal Services\\nGreg   Shields \\n        Terminal  Services may well be one of the biggest reasons why you move to Server  2008.\\u00a0 Its new capabilities for deploying  applications, its new Web interface, much improved printing, and new security  features all make Terminal Services a real winner.   [More]\\n SYSVOL in Server  2008 \\u2014 Know your Options\\nRhonda Layfield\\n        SYSVOL  now has choices for the replication engine used. In the past we all used the  File Replication Service (FRS) regardless of how well it worked. FRS had its  limitations and problem areas such as: journal wraps and morphed files and  folders.   [More]\\n Active Directory in  Windows Server 2008 \\u2014 Designing, Integrating, and Implementing\\nDerek Melber\\n        Active  Directory is more than user and group accounts. There are many moving parts  that need to be designed for a successful AD implementation. In this session,  we will look at all of the key aspects of your AD design and implementation.  All areas need to be evaluated and designed, such as forest and domain structure,  namespace, domain controllers\\u2026   [More]\\n Tips,  Tricks, and Troubleshooting  \\u2013 Top Picks \\n Tips You  Should Know for Preventing an Active Directory Failure \\nGreg   Shields \\n        Is  your Active Directory configuration a ticking time bomb? Prevent that  Resume-Producing Event by attending this fast-paced session. We\\u2019ll go over the  overlooked settings in your AD that could someday cause a major failure.  Gleaned from real-world experience through countless AD assessments, you\\u2019ll  hear about the top Active Directory mistakes and how to avoid them.\\n Windows  Server Backups:\\u00a0 New Tricks for an Old  Need\\nJames Conrad\\n        In  this session you\\u2019ll learn how to recover deleted Active Directory objects  without taking the server offline to boot into Directory Services Restore  mode.\\u00a0 You\\u2019ll also learn the best ways to  restore a server from the bare metal. And in the end, you\\u2019ll get the secrets  you need to keep your data safe.   [More]\\n Tips &  Tricks for the Windows Firewall:\\u00a0 You Can  Turn it On Now!\\nGreg   Shields \\n        When  Microsoft released the Windows Firewall in XP Service Pack 2, what did you do  with it?\\u00a0 Turn it off?\\u00a0 Admittedly, that first attempt at forcing a  firewall down our throats wasn\\u2019t the best, but the Windows Firewall has gotten  a lot better over the years. Learn how to manage it with Group Policy, easily  protect your laptops when off the domain while not causing problems while on  the domain.   [More]\\n Troubleshooting  Group Policy\\nDerek Melber\\n        Group  Policy ain\\u2019t easy! And troubleshooting Group Policy is harder still! This  session focuses on how to troubleshoot all aspects of Group Policy. Let MVP and  author of The Group Policy Resource Kit, Derek Melber, solve all of your GPO  issues. Whether it is processing, application, configuration, security, or  restoration, Derek will tackle it in this session. You will be exposed to all  of the new tools by Microsoft and other vendors to solve any Group Policy  issue!\\n Foundations for  Windows Administration  \\u2013 Top Picks \\n Fundamentals of  Failover and Load Balancing Clusters\\nBruce Mackenzie-Low\\n        In  today\\u2019s business environment, downtime equals lost productivity and revenue. To  guard against a single point of failure, Microsoft has embraced several  clustering technologies. This session will cover the fundamental principles of  Failover and Network Load Balancing clusters.   [More]\\n System Recovery: The  Good, the Bad, the Lifesaving\\nBruce Rougeau\\n        How  would you fix a server that will not boot due to a corrupted registry? If you  haven\\u2019t encountered this, chances are you will \\u2014 and probably soon. The old  saying, \\u201can ounce of prevention is worth a pound of cure\\u201d is just as true for  servers as it is for medicine.   [More]\\n What\\u2019s New in  Vista/Server 2008 Administration\\nMark Minasi\\n        The  latest desktop and server versions of Windows bring a host of new  administrative tools, from new Group Policy settings to better system  performance monitoring to vastly improved scheduling tools and more.\\u00a0 Join Windows expert Mark Minasi in an in-depth  look at Vista and 2008\\u2019s new admin goodies \\u2014  including a few items that you won\\u2019t see covered anywhere else.\\n IIS 7.0 Fundamentals\\nBruce Rougeau\\n        Every  IT professional should know how to build a Web server and create a Web  application using Windows Server. But even if you thought you knew it all,  Microsoft has significantly changed the IIS architecture, which now deserves a  complete review.\\u00a0   [More]\\n Practical Security  \\u2013 Top Picks \\n Current Wireless  Attacks and Countermeasures\\nKeith Parsons\\n        Based  on the popular Wireless LAN Security Assessment Toolkit course \\u2013 this session  shows some of the current wireless attacks and what you can do to counteract  them in your organization. Come and explore the \\u2018dark side\\u2019 of WLAN hacker  tools. We\\u2019ll also look ahead to next-generation security methods so you can  make well-informed decisions about WLAN security policies. Take the plunge into  Wireless LAN Security!\\n Intro to Hacking  and Countermeasures\\nTodd Lammle\\n        Clean  networks and a clean Internet don\\u2019t have to be futurist \\u2013 you can have a clean  network and PC today! However, very few people have them. So how do you get  one? One way is to understand hacking and the hackers themselves.   [More]\\n Intro to USB Stick:  Remote Communications and Portable Applications\\nTodd Lammle &  Keith Parsons\\n        This  unique session will show you how to connect to PCs and hunt down problems using  tools hosted on the Ultimate USB Security Stick. The USB memory stick is loaded  with powerful security, hacking, and forensic programs--everything you need to  help troubleshoot and secure client PCs, even if you lack Administrative  rights.   [More]\\n Inside Windows  Logons\\nMark Minasi\\n        Let  veteran Windows explicator Mark Minasi show you how logins work, how they  sometimes don\\u2019t work (and how you can fix them) as well as how to better secure  them -- as well as giving you the tools to understand where Microsoft's login  protocols are and aren't so secure.   [More]\\n Windows Powershell  and Windows Automation   \\u2013 Top Picks \\n Managing Remote  Systems the Windows PowerShell V2 Way\\nMarco Shaw\\n        In  this session, MVP Marco Shaw will discuss the new remoting features that will  be available in the next version of Windows PowerShell currently being offered  as a Community Technology Preview (CTP). This session will focus on the usage  of: the new functionality that comes with the Invoke-Expression cmdlet and the  usage of the new *-PSJob and *-Runspace cmdlets.   [More]\\n Automating Remote  Systems Management with PowerShell v1 and WMI\\nJeff Hicks\\n        Although  PowerShell is an incredibly valuable administrative tool, a major feature is  its support for Windows Management Instrumentation (WMI). In this session led  by PowerShell MVP and automation guru Jeffery Hicks, you'll learn how to access  remote system information, build management reports, monitor WMI events and  more all with PowerShell. This will be a demo-rich session with many real-world  and practical examples you can take home and use immediately.\\n Building a GUI in  Windows PowerShell\\nMarco Shaw\\n        In  this session, MVP Marco Shaw will guide you through using Windows Forms from  the .NET Framework to build lightweight, fully functional graphical user  interfaces (GUIs) that run within Windows PowerShell scripts.\\u00a0 You will be guided through the Windows Forms  hierarchy and be shown practical and effective examples for creating,  fine-tuning and using your using your own customized GUIs directly from within  Windows PowerShell.   [More]\\n Creating Killer  Management Reports in Windows PowerShell\\nDon Jones\\n        Learn  to control PowerShell's formatting subsystem in this \\\"under the hood\\\"  session, with a goal of creating great-looking management reports using  PowerShell's automation capabilities. You'll also learn about PowerShell's  output mechanisms, including the ability to automatically create great-looking,  HTML-based reports.   [More]\\nWant more content to choose from? You can view the  complete   conference agenda online.\\n\\nSpecial San Francisco Hotel Offers\\nAll  TechMentor San Francisco sessions and events will take place at the Moscone  Center West in downtown San Francisco.  We have partnered with 3 of San    Francisco\\u2019s top hotels, just steps away from the  conference. \\n\\n\\n  Intercontinental  Hotel San Francisco\\n            888 Howard Street \\n            San Francisco, CA 94103 \\n            (adjacent  to the Moscone Convention Center)\\n            Special  attendee rate: $225\\n            when booked             by March 12th\\n            Call  888-811-4273 to make a reservation \\n  San  Francisco Marriott\\n            55  Fourth Street \\n            San Francisco, CA 94103 \\n            (across  the street from the Moscone   Convention Center)\\n            Special  attendee rate: $219 \\n            when booked by March 11th\\n            Call  415-896-1600 to make a reservation \\n\\n\\n Parc 55 \\n            55 Cyril Magnin Street\\n            San Francisco, CA 94102 \\n            (Three blocks from the Moscone   Convention Center)\\n            Special  attendee rate: $169 \\n            when booked by March 7th\\n            Call  800-595-0507 to make a reservation \\n\\n\\nMake your reservation  directly with the hotel of your choice\\u2014mention TechMentor to receive the special attendee rate. \\n\\n Visit us online or call (800) 280-6218 and sign up for the package  that suits your needs. \\nWe look forward to seeing  you in San Francisco.\\n \\nPriority Code TMTOP\\nSponsors    \\n \\n \\nMedia Sponsors \\n    \\n*This   offer is only available to new registrations made during the promotional time   period using the appropriate priority code. No refunds will be given to those   who have previously registered for TechMentor San Francisco at a higher   price.\\n\\n\\n\\n\\n\\n\\n\\n\\n\\nThis message has been sent to: user6@gvc.ceas-challenge.cc\\nAs a subscriber of an 1105 Media, Inc. Redmond Media Group publication, we'll periodically send you information via e-mail about related products and services. If you wish to discontinue receiving these types of e-mails, you may opt out using the link below:\\n\\n\\nhttps://preference1105pubs.com/pref/opt.jsp?q\\u008dbhq@gvc.ceas-challenge.cc&l=1&p=91&o=D04640\\n\\n\\nTo view our privacy policy, visit: \\nhttp://www.1105media.com/privacy.html \\n1105 Media, Inc., 9121 Oakdale Ave., Chatsworth, CA 91311\\n \\n\\n\",\n          \"Re: AWL scores high after receiving spam \\\"from myself\\\"? Thank you too for you reply!\\n\\nOn Friday 22 February 2008 22:26:07 Ren\\u00e9 Berber wrote:\\n> Andreas Ntaflos wrote:\\n>\\n> [snip]\\n>\\n> > So I added my mailserver to the trusted_networks but after removing that\\n> > particularly troublesome address from the whitelist\\n> > (spamassassin --remove-addr-from-whitelist) and a few tests it seems that\\n> > AWL again scores in the wrong direction. Should I also add the remote\\n> > mailserver that is final destination for that troublesome address to\\n> > trusted_networks?\\n>\\n> No, don't add the remote mailserver.\\n\\nOk.\\n\\n> When you remove the email address you should not see an AWL score, if\\n> you still see it then you didn't remove it.  Remember that the AWL could\\n> be global or per user (even if the \\\"user\\\" is the one running amavisd in\\n> your case), dependending on your spamassassin configuration.\\n\\nRight, that's what I thought, too. I removed the address, sent a mail message \\nto btokumo-uccl@freebsd.org, and AWL got no score. Half an hour later I sent \\nanother message and AWL got a negative score of about -1.1. Two hours later I \\nsent yet another message and now AWL was at +0.370. And a message I sent just \\nnow got a score of +0.277. Is that normal?\\n\\nAmavisd is not involved in checking incoming mail that is retrieved via \\ngetmail. It passes the message directly to spamc. Amavisd only checks \\nincoming mail for the domain the mailserver is final destination for, which \\nis for the domain of the address I use to post to this list \\n(pseudoterminal.org). \\n\\nOn that note: checking the AWL scores for mail messages to *this* list from \\nthat address (clnb@pseudoterminal.org) shows that they are also a bit \\nhigh-ish (the first message got +2.45, the second +2.25).\\n\\nI am not sure if that is wrong, but I am getting more and more confused about \\nthe AWL. I never had problems with it before but recently it really seems to \\nscore badly only for messages sent by me!\\n\\nShould I post the contents of both local.cf and user_prefs? They don't contain \\nanything special as far as I can see, but something definitely feels wrong \\nwith my configuration. Why else would the AWL test get such scores?\\n\\nThanks again for your reply and your time!\\n\\nAndreas\\n-- \\nAndreas Ntaflos \\nVienna, Austria \\n\\nGPG Fingerprint: 6234 2E8E 5C81 C6CB E5EC  7E65 397C E2A8 090C A9B4\\n\",\n          \"Re: [spambayes-dev] [Spambayes] Outlook 2007 I've been successfully using SB with Outlook 2007 for some time now, and\\nthere have been reports of success even before I tried.  I just tried\\nOutlook 2007 on Vista x64 and sadly it died very early.  I'm still in the\\nprocess of debugging that though - given we have waited so long, another\\ncouple of weeks to try and resolve that might be worthwhile (I'm also\\ninstalling a 32bit vista to test with, just to see if that works better...)\\n\\nMark\\n\\n> -----Original Message-----\\n> From: uljrkovna-dsf-vxloulj@python.org [mailto:spambayes-dev-\\n> xddnvjg@python.org] On Behalf Of Jesse Pelton\\n> Sent: Wednesday, 19 September 2007 5:16 AM\\n> To: yhfgfdpken@Lastwebpage.de; ttrbkgvhb@python.org\\n> Cc: bsfegmjrr-hnq@python.org\\n> Subject: Re: [spambayes-dev] [Spambayes] Outlook 2007\\n> \\n> I'll leave it to Mark to say what went into that brew, and whether\\n> it'll\\n> be in the final 1.1 release.\\n> \\n> Speaking of which...what would it take to officially release 1.1?\\n> There\\n> seems to be some danger of forks of a sort occurring before it's even\\n> out the door.  (Copying spambayes-dev in case there's anyone who\\n> subscribes to that list but not the user list.)\\n> \\n> -----Original Message-----\\n> From: luhyvkqkl-hozvcoc@python.org [mailto:spambayes-\\n> xddnvjg@python.org]\\n> On Behalf Of Peter Flindt\\n> Sent: Tuesday, September 18, 2007 1:50 PM\\n> To: ttrbkgvhb@python.org\\n> Subject: Re: [Spambayes] Outlook 2007\\n> \\n> Jesse Pelton wrote :\\n> > Mark Hammond has an alpha version that he's using with Outlook 2007.\\n> See\\n> > http://www.mail-archive.com/ttrbkgvhb@python.org/msg05595.html.\\n> \\n> 8-o\\n> \\n> Which version ist this?\\n> Works very well here (OL2007/Vista Ultimate 32). :D\\n> \\n> (Must be a new version, I have tried many time other 1.1a versions\\n> without any luck)\\n> \\n> Many thanks for this link.\\n> \\n> Peter\\n> \\n> \\n> \\n> _______________________________________________\\n> ttrbkgvhb@python.org\\n> http://mail.python.org/mailman/listinfo/spambayes\\n> Info/Unsubscribe: http://mail.python.org/mailman/listinfo/spambayes\\n> Check the FAQ before asking: http://spambayes.sf.net/faq.html\\n> _______________________________________________\\n> spambayes-dev mailing list\\n> bsfegmjrr-hnq@python.org\\n> http://mail.python.org/mailman/listinfo/spambayes-dev\\n\\n_______________________________________________\\nspambayes-dev mailing list\\nbsfegmjrr-hnq@python.org\\nhttp://mail.python.org/mailman/listinfo/spambayes-dev\\n\\n\\n\"\n        ],\n        \"semantic_type\": \"\",\n        \"description\": \"\"\n      }\n    },\n    {\n      \"column\": \"label\",\n      \"properties\": {\n        \"dtype\": \"number\",\n        \"std\": 0,\n        \"min\": 0,\n        \"max\": 1,\n        \"num_unique_values\": 2,\n        \"samples\": [\n          0,\n          1\n        ],\n        \"semantic_type\": \"\",\n        \"description\": \"\"\n      }\n    }\n  ]\n}",
              "type": "dataframe",
              "variable_name": "pf"
            },
            "text/html": [
              "\n",
              "  <div id=\"df-4e5c078f-b196-47fd-b5b0-bb7da9c941dd\" class=\"colab-df-container\">\n",
              "    <div>\n",
              "<style scoped>\n",
              "    .dataframe tbody tr th:only-of-type {\n",
              "        vertical-align: middle;\n",
              "    }\n",
              "\n",
              "    .dataframe tbody tr th {\n",
              "        vertical-align: top;\n",
              "    }\n",
              "\n",
              "    .dataframe thead th {\n",
              "        text-align: right;\n",
              "    }\n",
              "</style>\n",
              "<table border=\"1\" class=\"dataframe\">\n",
              "  <thead>\n",
              "    <tr style=\"text-align: right;\">\n",
              "      <th></th>\n",
              "      <th>text</th>\n",
              "      <th>label</th>\n",
              "    </tr>\n",
              "  </thead>\n",
              "  <tbody>\n",
              "    <tr>\n",
              "      <th>0</th>\n",
              "      <td>Re: svn commit: r619753 - in /spamassassin/tru...</td>\n",
              "      <td>1</td>\n",
              "    </tr>\n",
              "    <tr>\n",
              "      <th>1</th>\n",
              "      <td>[Bug 5780] URI processing turns uuencoded stri...</td>\n",
              "      <td>1</td>\n",
              "    </tr>\n",
              "    <tr>\n",
              "      <th>2</th>\n",
              "      <td>RE: Trial IRC Certificate Application \\nPlelim...</td>\n",
              "      <td>1</td>\n",
              "    </tr>\n",
              "    <tr>\n",
              "      <th>3</th>\n",
              "      <td>Re: [opensuse] Why can't I use \"shutdown now\" ...</td>\n",
              "      <td>0</td>\n",
              "    </tr>\n",
              "    <tr>\n",
              "      <th>4</th>\n",
              "      <td>[Spambayes-checkins] spambayes/spambayes stora...</td>\n",
              "      <td>1</td>\n",
              "    </tr>\n",
              "    <tr>\n",
              "      <th>5</th>\n",
              "      <td>Re: [opensuse] OpenSuse 11 Benji Weber wrote:\\...</td>\n",
              "      <td>1</td>\n",
              "    </tr>\n",
              "    <tr>\n",
              "      <th>6</th>\n",
              "      <td>[Bookscanada] Was a book written about this - ...</td>\n",
              "      <td>0</td>\n",
              "    </tr>\n",
              "    <tr>\n",
              "      <th>7</th>\n",
              "      <td>[Bug 5780] [review] URI processing turns uuenc...</td>\n",
              "      <td>1</td>\n",
              "    </tr>\n",
              "    <tr>\n",
              "      <th>8</th>\n",
              "      <td>Tell your  friend how to quit smoking. \\n\\n\\n\\...</td>\n",
              "      <td>0</td>\n",
              "    </tr>\n",
              "    <tr>\n",
              "      <th>9</th>\n",
              "      <td>[Crm114-announce] crm114 filters all mails to ...</td>\n",
              "      <td>1</td>\n",
              "    </tr>\n",
              "  </tbody>\n",
              "</table>\n",
              "</div>\n",
              "    <div class=\"colab-df-buttons\">\n",
              "\n",
              "  <div class=\"colab-df-container\">\n",
              "    <button class=\"colab-df-convert\" onclick=\"convertToInteractive('df-4e5c078f-b196-47fd-b5b0-bb7da9c941dd')\"\n",
              "            title=\"Convert this dataframe to an interactive table.\"\n",
              "            style=\"display:none;\">\n",
              "\n",
              "  <svg xmlns=\"http://www.w3.org/2000/svg\" height=\"24px\" viewBox=\"0 -960 960 960\">\n",
              "    <path d=\"M120-120v-720h720v720H120Zm60-500h600v-160H180v160Zm220 220h160v-160H400v160Zm0 220h160v-160H400v160ZM180-400h160v-160H180v160Zm440 0h160v-160H620v160ZM180-180h160v-160H180v160Zm440 0h160v-160H620v160Z\"/>\n",
              "  </svg>\n",
              "    </button>\n",
              "\n",
              "  <style>\n",
              "    .colab-df-container {\n",
              "      display:flex;\n",
              "      gap: 12px;\n",
              "    }\n",
              "\n",
              "    .colab-df-convert {\n",
              "      background-color: #E8F0FE;\n",
              "      border: none;\n",
              "      border-radius: 50%;\n",
              "      cursor: pointer;\n",
              "      display: none;\n",
              "      fill: #1967D2;\n",
              "      height: 32px;\n",
              "      padding: 0 0 0 0;\n",
              "      width: 32px;\n",
              "    }\n",
              "\n",
              "    .colab-df-convert:hover {\n",
              "      background-color: #E2EBFA;\n",
              "      box-shadow: 0px 1px 2px rgba(60, 64, 67, 0.3), 0px 1px 3px 1px rgba(60, 64, 67, 0.15);\n",
              "      fill: #174EA6;\n",
              "    }\n",
              "\n",
              "    .colab-df-buttons div {\n",
              "      margin-bottom: 4px;\n",
              "    }\n",
              "\n",
              "    [theme=dark] .colab-df-convert {\n",
              "      background-color: #3B4455;\n",
              "      fill: #D2E3FC;\n",
              "    }\n",
              "\n",
              "    [theme=dark] .colab-df-convert:hover {\n",
              "      background-color: #434B5C;\n",
              "      box-shadow: 0px 1px 3px 1px rgba(0, 0, 0, 0.15);\n",
              "      filter: drop-shadow(0px 1px 2px rgba(0, 0, 0, 0.3));\n",
              "      fill: #FFFFFF;\n",
              "    }\n",
              "  </style>\n",
              "\n",
              "    <script>\n",
              "      const buttonEl =\n",
              "        document.querySelector('#df-4e5c078f-b196-47fd-b5b0-bb7da9c941dd button.colab-df-convert');\n",
              "      buttonEl.style.display =\n",
              "        google.colab.kernel.accessAllowed ? 'block' : 'none';\n",
              "\n",
              "      async function convertToInteractive(key) {\n",
              "        const element = document.querySelector('#df-4e5c078f-b196-47fd-b5b0-bb7da9c941dd');\n",
              "        const dataTable =\n",
              "          await google.colab.kernel.invokeFunction('convertToInteractive',\n",
              "                                                    [key], {});\n",
              "        if (!dataTable) return;\n",
              "\n",
              "        const docLinkHtml = 'Like what you see? Visit the ' +\n",
              "          '<a target=\"_blank\" href=https://colab.research.google.com/notebooks/data_table.ipynb>data table notebook</a>'\n",
              "          + ' to learn more about interactive tables.';\n",
              "        element.innerHTML = '';\n",
              "        dataTable['output_type'] = 'display_data';\n",
              "        await google.colab.output.renderOutput(dataTable, element);\n",
              "        const docLink = document.createElement('div');\n",
              "        docLink.innerHTML = docLinkHtml;\n",
              "        element.appendChild(docLink);\n",
              "      }\n",
              "    </script>\n",
              "  </div>\n",
              "\n",
              "\n",
              "    <div id=\"df-4a4a81d5-ff1a-47f2-9c06-7d6afa72ba04\">\n",
              "      <button class=\"colab-df-quickchart\" onclick=\"quickchart('df-4a4a81d5-ff1a-47f2-9c06-7d6afa72ba04')\"\n",
              "                title=\"Suggest charts\"\n",
              "                style=\"display:none;\">\n",
              "\n",
              "<svg xmlns=\"http://www.w3.org/2000/svg\" height=\"24px\"viewBox=\"0 0 24 24\"\n",
              "     width=\"24px\">\n",
              "    <g>\n",
              "        <path d=\"M19 3H5c-1.1 0-2 .9-2 2v14c0 1.1.9 2 2 2h14c1.1 0 2-.9 2-2V5c0-1.1-.9-2-2-2zM9 17H7v-7h2v7zm4 0h-2V7h2v10zm4 0h-2v-4h2v4z\"/>\n",
              "    </g>\n",
              "</svg>\n",
              "      </button>\n",
              "\n",
              "<style>\n",
              "  .colab-df-quickchart {\n",
              "      --bg-color: #E8F0FE;\n",
              "      --fill-color: #1967D2;\n",
              "      --hover-bg-color: #E2EBFA;\n",
              "      --hover-fill-color: #174EA6;\n",
              "      --disabled-fill-color: #AAA;\n",
              "      --disabled-bg-color: #DDD;\n",
              "  }\n",
              "\n",
              "  [theme=dark] .colab-df-quickchart {\n",
              "      --bg-color: #3B4455;\n",
              "      --fill-color: #D2E3FC;\n",
              "      --hover-bg-color: #434B5C;\n",
              "      --hover-fill-color: #FFFFFF;\n",
              "      --disabled-bg-color: #3B4455;\n",
              "      --disabled-fill-color: #666;\n",
              "  }\n",
              "\n",
              "  .colab-df-quickchart {\n",
              "    background-color: var(--bg-color);\n",
              "    border: none;\n",
              "    border-radius: 50%;\n",
              "    cursor: pointer;\n",
              "    display: none;\n",
              "    fill: var(--fill-color);\n",
              "    height: 32px;\n",
              "    padding: 0;\n",
              "    width: 32px;\n",
              "  }\n",
              "\n",
              "  .colab-df-quickchart:hover {\n",
              "    background-color: var(--hover-bg-color);\n",
              "    box-shadow: 0 1px 2px rgba(60, 64, 67, 0.3), 0 1px 3px 1px rgba(60, 64, 67, 0.15);\n",
              "    fill: var(--button-hover-fill-color);\n",
              "  }\n",
              "\n",
              "  .colab-df-quickchart-complete:disabled,\n",
              "  .colab-df-quickchart-complete:disabled:hover {\n",
              "    background-color: var(--disabled-bg-color);\n",
              "    fill: var(--disabled-fill-color);\n",
              "    box-shadow: none;\n",
              "  }\n",
              "\n",
              "  .colab-df-spinner {\n",
              "    border: 2px solid var(--fill-color);\n",
              "    border-color: transparent;\n",
              "    border-bottom-color: var(--fill-color);\n",
              "    animation:\n",
              "      spin 1s steps(1) infinite;\n",
              "  }\n",
              "\n",
              "  @keyframes spin {\n",
              "    0% {\n",
              "      border-color: transparent;\n",
              "      border-bottom-color: var(--fill-color);\n",
              "      border-left-color: var(--fill-color);\n",
              "    }\n",
              "    20% {\n",
              "      border-color: transparent;\n",
              "      border-left-color: var(--fill-color);\n",
              "      border-top-color: var(--fill-color);\n",
              "    }\n",
              "    30% {\n",
              "      border-color: transparent;\n",
              "      border-left-color: var(--fill-color);\n",
              "      border-top-color: var(--fill-color);\n",
              "      border-right-color: var(--fill-color);\n",
              "    }\n",
              "    40% {\n",
              "      border-color: transparent;\n",
              "      border-right-color: var(--fill-color);\n",
              "      border-top-color: var(--fill-color);\n",
              "    }\n",
              "    60% {\n",
              "      border-color: transparent;\n",
              "      border-right-color: var(--fill-color);\n",
              "    }\n",
              "    80% {\n",
              "      border-color: transparent;\n",
              "      border-right-color: var(--fill-color);\n",
              "      border-bottom-color: var(--fill-color);\n",
              "    }\n",
              "    90% {\n",
              "      border-color: transparent;\n",
              "      border-bottom-color: var(--fill-color);\n",
              "    }\n",
              "  }\n",
              "</style>\n",
              "\n",
              "      <script>\n",
              "        async function quickchart(key) {\n",
              "          const quickchartButtonEl =\n",
              "            document.querySelector('#' + key + ' button');\n",
              "          quickchartButtonEl.disabled = true;  // To prevent multiple clicks.\n",
              "          quickchartButtonEl.classList.add('colab-df-spinner');\n",
              "          try {\n",
              "            const charts = await google.colab.kernel.invokeFunction(\n",
              "                'suggestCharts', [key], {});\n",
              "          } catch (error) {\n",
              "            console.error('Error during call to suggestCharts:', error);\n",
              "          }\n",
              "          quickchartButtonEl.classList.remove('colab-df-spinner');\n",
              "          quickchartButtonEl.classList.add('colab-df-quickchart-complete');\n",
              "        }\n",
              "        (() => {\n",
              "          let quickchartButtonEl =\n",
              "            document.querySelector('#df-4a4a81d5-ff1a-47f2-9c06-7d6afa72ba04 button');\n",
              "          quickchartButtonEl.style.display =\n",
              "            google.colab.kernel.accessAllowed ? 'block' : 'none';\n",
              "        })();\n",
              "      </script>\n",
              "    </div>\n",
              "\n",
              "    </div>\n",
              "  </div>\n"
            ],
            "text/plain": [
              "                                                text  label\n",
              "0  Re: svn commit: r619753 - in /spamassassin/tru...      1\n",
              "1  [Bug 5780] URI processing turns uuencoded stri...      1\n",
              "2  RE: Trial IRC Certificate Application \\nPlelim...      1\n",
              "3  Re: [opensuse] Why can't I use \"shutdown now\" ...      0\n",
              "4  [Spambayes-checkins] spambayes/spambayes stora...      1\n",
              "5  Re: [opensuse] OpenSuse 11 Benji Weber wrote:\\...      1\n",
              "6  [Bookscanada] Was a book written about this - ...      0\n",
              "7  [Bug 5780] [review] URI processing turns uuenc...      1\n",
              "8  Tell your  friend how to quit smoking. \\n\\n\\n\\...      0\n",
              "9  [Crm114-announce] crm114 filters all mails to ...      1"
            ]
          },
          "execution_count": 3,
          "metadata": {},
          "output_type": "execute_result"
        }
      ],
      "source": [
        "pf = pd.read_csv('emails.csv')\n",
        "pf.head(10)"
      ]
    },
    {
      "cell_type": "code",
      "execution_count": 4,
      "metadata": {
        "colab": {
          "base_uri": "https://localhost:8080/"
        },
        "id": "1xJfo-ekg6xq",
        "outputId": "d407ec41-28d1-4c81-b054-25cf43d75d2d"
      },
      "outputs": [
        {
          "data": {
            "text/plain": [
              "(6360, 2)"
            ]
          },
          "execution_count": 4,
          "metadata": {},
          "output_type": "execute_result"
        }
      ],
      "source": [
        "pf.shape"
      ]
    },
    {
      "cell_type": "code",
      "execution_count": 5,
      "metadata": {
        "id": "UWUlE8xxeyz4"
      },
      "outputs": [],
      "source": [
        "# NO PREPROCESSING as phake emails should include: URLs, special characters, punctuation,numbers, stopwords, capital letters,\n",
        "# stemming or lemmatization, HTML tags, incorrect spelling\n",
        "\n",
        "# INSTEAD, remove null, and perform lowercasing\n",
        "\n",
        "pf.dropna(inplace=True)\n",
        "pf['text'] = pf['text'].str.lower()"
      ]
    },
    {
      "cell_type": "code",
      "execution_count": 6,
      "metadata": {
        "colab": {
          "base_uri": "https://localhost:8080/"
        },
        "id": "Y6DCpkE2J-xL",
        "outputId": "e0cfdf05-3e49-4cc3-ea98-74cf4263ab2b"
      },
      "outputs": [
        {
          "data": {
            "text/plain": [
              "(6360, 2)"
            ]
          },
          "execution_count": 6,
          "metadata": {},
          "output_type": "execute_result"
        }
      ],
      "source": [
        "#recheck dataset quantity\n",
        "pf.shape"
      ]
    },
    {
      "cell_type": "code",
      "execution_count": 7,
      "metadata": {
        "colab": {
          "base_uri": "https://localhost:8080/",
          "height": 564
        },
        "id": "05-XqGq3hiLF",
        "outputId": "a9f254e5-536c-4718-8cb2-455adaf6a1e3"
      },
      "outputs": [
        {
          "data": {
            "image/png": "[encoded data removed]",
            "text/plain": [
              "<Figure size 1000x600 with 1 Axes>"
            ]
          },
          "metadata": {},
          "output_type": "display_data"
        }
      ],
      "source": [
        "plt.figure(figsize=(10,6))\n",
        "sns.countplot(data=pf,x='label')#the orrcurrences number of each np.unique value in the column\n",
        "plt.title('non-phishing vs phishing emails')\n",
        "plt.xticks(ticks=[0,1],labels=['non-phishing','phishing'])\n",
        "plt.ylabel('Count')\n",
        "plt.show()"
      ]
    },
    {
      "cell_type": "code",
      "execution_count": 8,
      "metadata": {
        "colab": {
          "base_uri": "https://localhost:8080/"
        },
        "id": "sgYlZ3Y3z4tk",
        "outputId": "35e7adb5-5b32-412d-cd39-659649779811"
      },
      "outputs": [
        {
          "name": "stdout",
          "output_type": "stream",
          "text": [
            "label\n",
            "0    3689\n",
            "1    2671\n",
            "Name: count, dtype: int64\n"
          ]
        }
      ],
      "source": [
        "print(pf[\"label\"].value_counts())#optional"
      ]
    },
    {
      "cell_type": "code",
      "execution_count": 9,
      "metadata": {
        "colab": {
          "base_uri": "https://localhost:8080/",
          "height": 564
        },
        "id": "xar_uWaLl68a",
        "outputId": "38ddd6ad-7df2-4554-d908-5b14c7917adc"
      },
      "outputs": [
        {
          "data": {
            "image/png": "[encoded data removed]",
            "text/plain": [
              "<Figure size 1000x600 with 1 Axes>"
            ]
          },
          "metadata": {},
          "output_type": "display_data"
        }
      ],
      "source": [
        "# SPECIAL CHARACTER COUNTER\n",
        "pf['special_characters'] = pf['text'].apply(lambda x: sum(not x.isalnum() and not x.isspace() for x in x)) #FOR EACH ROW IN \"text\"->CHECK CHARACTER->TRUE IF NEITHER LETTER NOR DEGIT NOR SPACE\n",
        "plt.figure(figsize=(10,6))#create a new blank figure that is 10inch (width) and 6inch(height)\n",
        "sns.boxplot(x='label', y='special_characters', data=pf)# tell Seaborn to use data from pf\n",
        "plt.xticks([0,1], ['non-phishing', 'phishing'])\n",
        "plt.xlabel('lables')\n",
        "plt.ylabel('Special character count')\n",
        "plt.title('number of special characters')\n",
        "plt.show()\n"
      ]
    },
    {
      "cell_type": "code",
      "execution_count": 10,
      "metadata": {
        "colab": {
          "base_uri": "https://localhost:8080/"
        },
        "id": "Y1ED4lBvr1L2",
        "outputId": "9782286a-0a24-4477-e690-8267d04e04c6"
      },
      "outputs": [
        {
          "name": "stderr",
          "output_type": "stream",
          "text": [
            "[nltk_data] Downloading package stopwords to /root/nltk_data...\n",
            "[nltk_data]   Unzipping corpora/stopwords.zip.\n"
          ]
        },
        {
          "data": {
            "text/plain": [
              "True"
            ]
          },
          "execution_count": 10,
          "metadata": {},
          "output_type": "execute_result"
        }
      ],
      "source": [
        "# download stopwords\n",
        "import nltk\n",
        "from nltk.corpus import stopwords\n",
        "nltk.download('stopwords')\n",
        "\n"
      ]
    },
    {
      "cell_type": "code",
      "execution_count": null,
      "metadata": {
        "colab": {
          "base_uri": "https://localhost:8080/",
          "height": 564
        },
        "id": "nV-6yV5Ft20C",
        "outputId": "21d13d38-29ce-48cf-c99b-716ae50126e3"
      },
      "outputs": [
        {
          "data": {
            "image/png": "[encoded data removed]",
            "text/plain": [
              "<Figure size 1000x600 with 1 Axes>"
            ]
          },
          "metadata": {},
          "output_type": "display_data"
        }
      ],
      "source": [
        "from collections import Counter\n",
        "# joining text from phishing and legitimate emails -> convert to lowercasw ->split into words\n",
        "phishing_text= ' '.join(pf[pf['label']==1]['text'].str.lower()).split()\n",
        "legitimate_text= ' '.join(pf[pf['label']==0]['text'].str.lower()).split()\n",
        "\n",
        "# stopwords filtering conditon\n",
        "stop_words = set(stopwords.words(\"english\"))\n",
        "cleaned_phishing_text = [word for word in phishing_text if word.isalpha() and word not in stop_words]# keep only alphabet words\n",
        "cleaned_legitimate_text = [word for word in legitimate_text if word.isalpha() and word not in stop_words]# keep only alphabet words\n",
        "\n",
        "# list common words\n",
        "common_phishing_words= Counter(cleaned_phishing_text)\n",
        "common_legitimate_words= Counter(cleaned_legitimate_text)\n",
        "\n",
        "# convert to sets \n",
        "phishing_words = set(common_phishing_words.keys())\n",
        "legitimate_words = set(common_legitimate_words.keys())\n",
        "\n",
        "# find words that appear in phishing but not legitimate emails\n",
        "only_phishing = phishing_words - legitimate_words\n",
        "\n",
        "# count the frequency of unique phishing words\n",
        "only_phishing_count = {word:common_phishing_words[word] for word in only_phishing}\n",
        "\n",
        "# count the frequency of unique phishing words\n",
        "top_n = 20\n",
        "only_phishing_sort = dict(sorted(only_phishing_count.items(), key=lambda item : item[1], reverse=True)[:top_n])\n",
        "\n",
        "# convert to dataframe for easy plotting\n",
        "only_phishing_df = pd.DataFrame(list(only_phishing_sort.items()), columns=[\"word\", \"common_phishing_words\"])\n",
        "\n",
        "# plotting the bar chart\n",
        "plt.figure(figsize=(10,6))\n",
        "sns.barplot(data=only_phishing_df, x=\"common_phishing_words\", y=\"word\")\n",
        "\n",
        "# add titles and labels\n",
        "plt.title('keywords unique to phishing emails')\n",
        "plt.xlabel('count')\n",
        "plt.ylabel('words')\n",
        "plt.show()"
      ]
    },
    {
      "cell_type": "code",
      "execution_count": 12,
      "metadata": {
        "id": "do65sw_91sTO"
      },
      "outputs": [],
      "source": [
        "from sklearn.model_selection import train_test_split\n",
        "\n",
        "# 70% train + 30% remain (test and valuation)\n",
        "train_text, remain_text, train_labels, remain_labels = train_test_split(\n",
        "    pf['text'].tolist(),\n",
        "    pf['label'].tolist(),\n",
        "    test_size=0.30,\n",
        "    random_state=42,\n",
        "    stratify=pf['label'].tolist() # ONLY FOR LABELED DATASET\n",
        ")\n",
        "\n",
        "# 10% valuation, 20% test\n",
        "val_text, test_text, val_labels, test_labels = train_test_split(\n",
        "    remain_text,\n",
        "    remain_labels,\n",
        "    test_size=2/3,  # 20% of 30%\n",
        "    random_state=42,\n",
        "    stratify= remain_labels # ONLY FOR LABELED DATASET\n",
        ")\n",
        "\n"
      ]
    },
    {
      "cell_type": "code",
      "execution_count": 13,
      "metadata": {
        "colab": {
          "base_uri": "https://localhost:8080/"
        },
        "id": "fb13ad59",
        "outputId": "d19514e2-c795-4bbf-afd1-5ec90ac86d7b"
      },
      "outputs": [
        {
          "name": "stdout",
          "output_type": "stream",
          "text": [
            "Requirement already satisfied: transformers in /usr/local/lib/python3.12/dist-packages (4.56.1)\n",
            "Requirement already satisfied: filelock in /usr/local/lib/python3.12/dist-packages (from transformers) (3.19.1)\n",
            "Requirement already satisfied: huggingface-hub<1.0,>=0.34.0 in /usr/local/lib/python3.12/dist-packages (from transformers) (0.34.4)\n",
            "Requirement already satisfied: numpy>=1.17 in /usr/local/lib/python3.12/dist-packages (from transformers) (2.0.2)\n",
            "Requirement already satisfied: packaging>=20.0 in /usr/local/lib/python3.12/dist-packages (from transformers) (25.0)\n",
            "Requirement already satisfied: pyyaml>=5.1 in /usr/local/lib/python3.12/dist-packages (from transformers) (6.0.2)\n",
            "Requirement already satisfied: regex!=2019.12.17 in /usr/local/lib/python3.12/dist-packages (from transformers) (2024.11.6)\n",
            "Requirement already satisfied: requests in /usr/local/lib/python3.12/dist-packages (from transformers) (2.32.4)\n",
            "Requirement already satisfied: tokenizers<=0.23.0,>=0.22.0 in /usr/local/lib/python3.12/dist-packages (from transformers) (0.22.0)\n",
            "Requirement already satisfied: safetensors>=0.4.3 in /usr/local/lib/python3.12/dist-packages (from transformers) (0.6.2)\n",
            "Requirement already satisfied: tqdm>=4.27 in /usr/local/lib/python3.12/dist-packages (from transformers) (4.67.1)\n",
            "Requirement already satisfied: fsspec>=2023.5.0 in /usr/local/lib/python3.12/dist-packages (from huggingface-hub<1.0,>=0.34.0->transformers) (2025.3.0)\n",
            "Requirement already satisfied: typing-extensions>=3.7.4.3 in /usr/local/lib/python3.12/dist-packages (from huggingface-hub<1.0,>=0.34.0->transformers) (4.15.0)\n",
            "Requirement already satisfied: hf-xet<2.0.0,>=1.1.3 in /usr/local/lib/python3.12/dist-packages (from huggingface-hub<1.0,>=0.34.0->transformers) (1.1.9)\n",
            "Requirement already satisfied: charset_normalizer<4,>=2 in /usr/local/lib/python3.12/dist-packages (from requests->transformers) (3.4.3)\n",
            "Requirement already satisfied: idna<4,>=2.5 in /usr/local/lib/python3.12/dist-packages (from requests->transformers) (3.10)\n",
            "Requirement already satisfied: urllib3<3,>=1.21.1 in /usr/local/lib/python3.12/dist-packages (from requests->transformers) (2.5.0)\n",
            "Requirement already satisfied: certifi>=2017.4.17 in /usr/local/lib/python3.12/dist-packages (from requests->transformers) (2025.8.3)\n"
          ]
        }
      ],
      "source": [
        "!pip install transformers"
      ]
    },
    {
      "cell_type": "code",
      "execution_count": 14,
      "metadata": {
        "colab": {
          "base_uri": "https://localhost:8080/",
          "height": 240,
          "referenced_widgets": [
            "76c29d8f74f945d9b696d8648acc2810",
            "a26a117188ff4de8b8c0668b9a6d17fa",
            "290c702bf614486dbe9536496c403089",
            "d3188f4f10574d438a50a5076b134668",
            "3f7cf6bbc18547709f36cb1c5568ff7f",
            "628fca55bdff4ac199e7bf79036d1d9c",
            "14977344435048598a03958ddb6fa487",
            "a13e645c44b04001bcef1efaf1a8a6d0",
            "342aa76ae82047f284ccd10806ecec87",
            "f4846c2151204780abf7a74d36109678",
            "f5522704ef644abb9f12da1a6a5e816f",
            "efe8fc1dba7b4db993fc5911c78883ee",
            "27439f2b2ea543cfb945b65efe8d48ab",
            "ab348a62cb2644ef9f240517fffc5148",
            "f3a57e57a0e8400e939cdeb1d805c42c",
            "41050f3aaad34d549cdb2d930ded3f9b",
            "c17cef9de61d4f46a13e204750dd058a",
            "950181f796b049dd9d874fa285083fb3",
            "b2a34a4a35354aef8fb5a9c0ff31de02",
            "9fff0816dc934777b43462415a0d2ad6",
            "7563b8b1289242f88e511d62286a7ef1",
            "f0ffd29b70a6489e8c1e55263eed7530"
          ]
        },
        "id": "fb0c8c1c",
        "outputId": "f07b18d7-8345-4ca0-c553-918a8fa400a2"
      },
      "outputs": [
        {
          "name": "stderr",
          "output_type": "stream",
          "text": [
            "/usr/local/lib/python3.12/dist-packages/huggingface_hub/utils/_auth.py:94: UserWarning: \n",
            "The secret `HF_TOKEN` does not exist in your Colab secrets.\n",
            "To authenticate with the Hugging Face Hub, create a token in your settings tab (https://huggingface.co/settings/tokens), set it as secret in your Google Colab and restart your session.\n",
            "You will be able to reuse this secret in all of your notebooks.\n",
            "Please note that authentication is recommended but still optional to access public models or datasets.\n",
            "  warnings.warn(\n"
          ]
        },
        {
          "data": {
            "application/vnd.jupyter.widget-view+json": {
              "model_id": "76c29d8f74f945d9b696d8648acc2810",
              "version_major": 2,
              "version_minor": 0
            },
            "text/plain": [
              "config.json:   0%|          | 0.00/483 [00:00<?, ?B/s]"
            ]
          },
          "metadata": {},
          "output_type": "display_data"
        },
        {
          "data": {
            "application/vnd.jupyter.widget-view+json": {
              "model_id": "efe8fc1dba7b4db993fc5911c78883ee",
              "version_major": 2,
              "version_minor": 0
            },
            "text/plain": [
              "model.safetensors:   0%|          | 0.00/268M [00:00<?, ?B/s]"
            ]
          },
          "metadata": {},
          "output_type": "display_data"
        },
        {
          "name": "stderr",
          "output_type": "stream",
          "text": [
            "Some weights of DistilBertForSequenceClassification were not initialized from the model checkpoint at distilbert-base-uncased and are newly initialized: ['classifier.bias', 'classifier.weight', 'pre_classifier.bias', 'pre_classifier.weight']\n",
            "You should probably TRAIN this model on a down-stream task to be able to use it for predictions and inference.\n"
          ]
        }
      ],
      "source": [
        "from transformers import AutoTokenizer, AutoModelForSequenceClassification, TrainingArguments, Trainer #can be either roBert or any BERT family members\n",
        "model_name = \"distilbert-base-uncased\"\n",
        "# instantiating DL model\n",
        "model = AutoModelForSequenceClassification.from_pretrained(model_name, num_labels=2) #create model object that Trainer needs"
      ]
    },
    {
      "cell_type": "code",
      "execution_count": 15,
      "metadata": {
        "colab": {
          "base_uri": "https://localhost:8080/",
          "height": 113,
          "referenced_widgets": [
            "f4250a4f1ae74567ac1328df102af5d9",
            "40150e7f9c4f4534b8eda9e0abadebfd",
            "a8ac281768c84f7f9ba343fadd945f64",
            "629bc1fe40a34124924f1c185911350f",
            "14986c8cd281494f81832ce2785f37de",
            "cb0d1e5f5d08468ba24a855b16061812",
            "5bce4ab7fac746a6b0c33ae0c269aa0d",
            "70d63b26903e41889acd08ffab55e12a",
            "db8e1610899f41d5ba7da83a364a125d",
            "2c1a7c7cf5b340559aa9d7c51e9c29c3",
            "dfad1d52d77b4c83826e717b15c77222",
            "55e645f16b57430b80ab5d643238e9d6",
            "862abaafa6574224b5ea7c413b683dc5",
            "4b177b67fb99456ea48dbb1c9bcd5e4c",
            "d87c5246b29349dc8aae36188f3963d4",
            "43628d6502f54ec8851d0d93a910ba31",
            "082ecdae250140b4bad2c52e9e7d17ed",
            "a325b9a173444f84a57f43ff39687ecc",
            "015e6a3bc53b430bbe9199ed10ef8fa8",
            "4b3ec00341f642e0a6c5c6e3d15c48e7",
            "b43bf286d4354322afcea8ec623f12fc",
            "e8f60181b4354927b23b1ac2308f4af0",
            "e31cdfe6d3114eac858921d9be57688f",
            "d75fece3716448c5a6082d36c177996c",
            "8e1757f83e9b4744a16c03cc85ac349b",
            "581072bccdf648db918ba3094b308854",
            "81a35d6dc46443cabcb74d1fea5e0acd",
            "51344fd478c7452b85de3e52cc063e2f",
            "6b6b60a11ef445c488d4b78a7b049b8d",
            "80acc1eee05245d48afe104c8e30fa9a",
            "c5472f3c9fc3471fa5358c5206d13271",
            "1dcdfaf4797f46efb476d95700cd855e",
            "e0ae5d6eaa3044e784cf8b8659cb2137"
          ]
        },
        "id": "24d8f56b",
        "outputId": "f5b33a81-2089-443c-9ad5-5026e49296df"
      },
      "outputs": [
        {
          "data": {
            "application/vnd.jupyter.widget-view+json": {
              "model_id": "f4250a4f1ae74567ac1328df102af5d9",
              "version_major": 2,
              "version_minor": 0
            },
            "text/plain": [
              "tokenizer_config.json:   0%|          | 0.00/48.0 [00:00<?, ?B/s]"
            ]
          },
          "metadata": {},
          "output_type": "display_data"
        },
        {
          "data": {
            "application/vnd.jupyter.widget-view+json": {
              "model_id": "55e645f16b57430b80ab5d643238e9d6",
              "version_major": 2,
              "version_minor": 0
            },
            "text/plain": [
              "vocab.txt:   0%|          | 0.00/232k [00:00<?, ?B/s]"
            ]
          },
          "metadata": {},
          "output_type": "display_data"
        },
        {
          "data": {
            "application/vnd.jupyter.widget-view+json": {
              "model_id": "e31cdfe6d3114eac858921d9be57688f",
              "version_major": 2,
              "version_minor": 0
            },
            "text/plain": [
              "tokenizer.json:   0%|          | 0.00/466k [00:00<?, ?B/s]"
            ]
          },
          "metadata": {},
          "output_type": "display_data"
        }
      ],
      "source": [
        "#BERT only understand numerical input, the process should be raw text -> tokens -> numerical IDs\n",
        "tokenizer = AutoTokenizer.from_pretrained(model_name) # convert texts into token IDs\n",
        "\n",
        "#tokenize the datasets (PREPROCESSING)\n",
        "MAX_LEN = 128\n",
        "\n",
        "train_text = list(train_text)\n",
        "train_labels = list(train_labels)\n",
        "train_encodings = tokenizer(train_text, truncation=True, padding=True, max_length=MAX_LEN)\n",
        "\n",
        "val_text = list(val_text)\n",
        "val_labels = list(val_labels)\n",
        "val_encodings = tokenizer(val_text, truncation=True, padding=True, max_length=MAX_LEN)\n",
        "\n",
        "test_text = list(test_text)\n",
        "test_labels = list(test_labels)\n",
        "test_encodings = tokenizer(test_text, truncation=True, padding=True, max_length = MAX_LEN)"
      ]
    },
    {
      "cell_type": "code",
      "execution_count": 16,
      "metadata": {
        "colab": {
          "base_uri": "https://localhost:8080/"
        },
        "id": "1Ub_AMh9_bxp",
        "outputId": "2195063c-3db5-449b-c84b-e1fa8b53251f"
      },
      "outputs": [
        {
          "name": "stdout",
          "output_type": "stream",
          "text": [
            "[101, 13229, 1012, 4012, 3679, 2327, 2184, 1028, 1009, 1027, 1009, 1027, 1009, 1027, 1009, 1027, 1009, 1027, 1009, 1027, 1009, 1027, 1009, 1027, 1009, 1027, 1009, 1027, 1009, 1027, 1009, 1027, 1009, 1027, 1009, 1027, 1009, 1027, 1009, 1027, 1009, 1027, 1009, 1027, 1009, 1027, 1009, 1027, 1009, 1027, 1009, 1027, 1009, 1027, 1009, 1027, 1009, 1027, 1009, 1027, 1009, 1027, 1009, 1027, 1009, 1027, 1009, 1027, 1028, 1996, 3679, 2327, 2184, 1028, 2013, 13229, 1012, 4012, 1028, 2327, 6876, 1998, 3441, 2004, 1997, 1024, 15476, 1015, 1010, 2263, 1017, 1024, 5388, 7610, 3968, 2102, 1028, 1009, 1027, 1009, 1027, 1009, 1027, 1009, 1027, 1009, 1027, 1009, 1027, 1009, 1027, 1009, 1027, 1009, 1027, 1009, 1027, 1009, 1027, 1009, 1027, 1009, 1027, 1009, 1027, 1009, 1027, 102]\n",
            "[1, 1, 1, 1, 1, 1, 1, 1, 1, 1, 1, 1, 1, 1, 1, 1, 1, 1, 1, 1, 1, 1, 1, 1, 1, 1, 1, 1, 1, 1, 1, 1, 1, 1, 1, 1, 1, 1, 1, 1, 1, 1, 1, 1, 1, 1, 1, 1, 1, 1, 1, 1, 1, 1, 1, 1, 1, 1, 1, 1, 1, 1, 1, 1, 1, 1, 1, 1, 1, 1, 1, 1, 1, 1, 1, 1, 1, 1, 1, 1, 1, 1, 1, 1, 1, 1, 1, 1, 1, 1, 1, 1, 1, 1, 1, 1, 1, 1, 1, 1, 1, 1, 1, 1, 1, 1, 1, 1, 1, 1, 1, 1, 1, 1, 1, 1, 1, 1, 1, 1, 1, 1, 1, 1, 1, 1, 1, 1]\n",
            "[CLS] cnn. com daily top 10 > + = + = + = + = + = + = + = + = + = + = + = + = + = + = + = + = + = + = + = + = + = + = + = + = + = + = + = + = + = + = > the daily top 10 > from cnn. com > top videos and stories as of : aug 1, 2008 3 : 58 pm edt > + = + = + = + = + = + = + = + = + = + = + = + = + = + = + = [SEP]\n"
          ]
        }
      ],
      "source": [
        "# this step is OPTIONAL (FOR BETTER UNDERSTANDING DATA TOKENIZATION)\n",
        "# turn emails into input_ids and attention_mask\n",
        "print(train_encodings['input_ids'][0]) # wordpiece token ID (Each number corresponds to a word-piece from the model’s vocabulary)\n",
        "print(train_encodings['attention_mask'][0]) # tells model which tokens are padding (0) vs real words (1)\n",
        "# View raw data\n",
        "print(tokenizer.decode(train_encodings[\"input_ids\"][0]))\n"
      ]
    },
    {
      "cell_type": "code",
      "execution_count": 17,
      "metadata": {
        "id": "XP3gvGtXBKVm"
      },
      "outputs": [],
      "source": [
        "#wrap tokenized data into a Dataset\n",
        "class Dataset(torch.utils.data.Dataset):\n",
        "    def __init__(self, encodings, labels):#store tokenzied input data (encodings) and labels\n",
        "        self.encodings = encodings\n",
        "        self.labels = labels\n",
        "    def __getitem__(self, idx): #return the input tensors for a specific index\n",
        "        item = {key: torch.tensor(val[idx]) for key, val in self.encodings.items()}\n",
        "        item['labels'] = torch.tensor(self.labels[idx], dtype = torch.long)\n",
        "        return item\n",
        "    def __len__(self):#return the total number of samples\n",
        "        return len(self.labels)\n",
        "\n",
        "train_dataset = Dataset(train_encodings, train_labels)\n",
        "val_dataset = Dataset(val_encodings, val_labels)\n",
        "test_dataset = Dataset(test_encodings, test_labels)\n"
      ]
    },
    {
      "cell_type": "code",
      "execution_count": 18,
      "metadata": {
        "id": "X-wb0h4JD0g5"
      },
      "outputs": [],
      "source": [
        "# define evaluation metrics\n",
        "import numpy as np\n",
        "from sklearn.metrics import confusion_matrix, classification_report, accuracy_score, precision_score, recall_score, f1_score\n",
        "\n",
        "def compute_metrics(pred):\n",
        "    labels = pred.label_ids\n",
        "    preds = pred.predictions.argmax(-1)\n",
        "    precision, recall, f1, _ = precision_recall_fscore_support(labels, preds, average='binary')\n",
        "    accScore = accuracy_score(labels, preds)\n",
        "\n",
        "    return {\n",
        "        'accuracy': accScore, # overall correctness\n",
        "        'f1': f1,             # Balance between precision & recall\n",
        "        'precision': precision,## how many were actually phishing, on the of phishing labeled email (low = many false alarms)\n",
        "        'recall': recall       # Out of all real phishing emails, how many did we catch (low = many phishing emails missed)\n",
        "    }"
      ]
    },
    {
      "cell_type": "code",
      "execution_count": 19,
      "metadata": {
        "collapsed": true,
        "id": "ty-wvLxCE-Ob"
      },
      "outputs": [],
      "source": [
        "#define trainning settings(before training the model)\n",
        "from transformers import TrainingArguments\n",
        "trainning_args = TrainingArguments( #define how the model should be trained\n",
        "    output_dir='./results',          # output directory\n",
        "    num_train_epochs=2,              # total number of training epochs\n",
        "    per_device_train_batch_size=10,  # batch size per device during training\n",
        "    learning_rate=2e-5,              #define how fast the model learns\n",
        "    per_device_eval_batch_size=64,   # batch size for evaluation\n",
        "    save_strategy = \"epoch\",          # save checkpoint after each epoch\n",
        "    logging_dir='./logs',            # directory for storing logs\n",
        "    report_to=[\"none\"],                # turn off W&B while debugging\n",
        "    eval_strategy=\"epoch\",\n",
        "    logging_strategy=\"steps\",   # or \"epoch\"\n",
        "    logging_steps=50            # ensure some train-loss logs per epoch\n",
        "\n",
        ")"
      ]
    },
    {
      "cell_type": "code",
      "execution_count": 20,
      "metadata": {
        "colab": {
          "base_uri": "https://localhost:8080/"
        },
        "id": "xA7QK2gCG8Fw",
        "outputId": "f6916688-8d8d-4142-cad7-9daf0a449267"
      },
      "outputs": [
        {
          "name": "stderr",
          "output_type": "stream",
          "text": [
            "/tmp/ipython-input-3600518076.py:3: FutureWarning: `tokenizer` is deprecated and will be removed in version 5.0.0 for `Trainer.__init__`. Use `processing_class` instead.\n",
            "  trainer = Trainer(\n"
          ]
        }
      ],
      "source": [
        "from transformers import Trainer, DataCollatorWithPadding\n",
        "#Trainer simplifies teh process of training the model\n",
        "trainer = Trainer(\n",
        "    model = model,\n",
        "    args = trainning_args,\n",
        "    train_dataset = train_dataset,\n",
        "    eval_dataset = val_dataset,\n",
        "    compute_metrics = compute_metrics,\n",
        "    tokenizer = tokenizer,\n",
        "    data_collator = DataCollatorWithPadding(tokenizer=tokenizer)\n",
        ")"
      ]
    },
    {
      "cell_type": "code",
      "execution_count": 21,
      "metadata": {
        "colab": {
          "base_uri": "https://localhost:8080/",
          "height": 352
        },
        "id": "FdjXT09UH-aZ",
        "outputId": "360d8e50-c753-48f5-830f-457ccefef1c1"
      },
      "outputs": [
        {
          "name": "stderr",
          "output_type": "stream",
          "text": [
            "/usr/local/lib/python3.12/dist-packages/torch/utils/data/dataloader.py:666: UserWarning: 'pin_memory' argument is set as true but no accelerator is found, then device pinned memory won't be used.\n",
            "  warnings.warn(warn_msg)\n"
          ]
        },
        {
          "data": {
            "text/html": [
              "\n",
              "    <div>\n",
              "      \n",
              "      <progress value='870' max='892' style='width:300px; height:20px; vertical-align: middle;'></progress>\n",
              "      [870/892 1:31:28 < 02:19, 0.16 it/s, Epoch 1.95/2]\n",
              "    </div>\n",
              "    <table border=\"1\" class=\"dataframe\">\n",
              "  <thead>\n",
              " <tr style=\"text-align: left;\">\n",
              "      <th>Epoch</th>\n",
              "      <th>Training Loss</th>\n",
              "      <th>Validation Loss</th>\n",
              "      <th>Accuracy</th>\n",
              "      <th>F1</th>\n",
              "      <th>Precision</th>\n",
              "      <th>Recall</th>\n",
              "    </tr>\n",
              "  </thead>\n",
              "  <tbody>\n",
              "    <tr>\n",
              "      <td>1</td>\n",
              "      <td>0.225700</td>\n",
              "      <td>0.182159</td>\n",
              "      <td>0.940252</td>\n",
              "      <td>0.928030</td>\n",
              "      <td>0.938697</td>\n",
              "      <td>0.917603</td>\n",
              "    </tr>\n",
              "  </tbody>\n",
              "</table><p>"
            ],
            "text/plain": [
              "<IPython.core.display.HTML object>"
            ]
          },
          "metadata": {},
          "output_type": "display_data"
        },
        {
          "name": "stderr",
          "output_type": "stream",
          "text": [
            "/usr/local/lib/python3.12/dist-packages/torch/utils/data/dataloader.py:666: UserWarning: 'pin_memory' argument is set as true but no accelerator is found, then device pinned memory won't be used.\n",
            "  warnings.warn(warn_msg)\n"
          ]
        },
        {
          "data": {
            "text/html": [
              "\n",
              "    <div>\n",
              "      \n",
              "      <progress value='892' max='892' style='width:300px; height:20px; vertical-align: middle;'></progress>\n",
              "      [892/892 1:35:54, Epoch 2/2]\n",
              "    </div>\n",
              "    <table border=\"1\" class=\"dataframe\">\n",
              "  <thead>\n",
              " <tr style=\"text-align: left;\">\n",
              "      <th>Epoch</th>\n",
              "      <th>Training Loss</th>\n",
              "      <th>Validation Loss</th>\n",
              "      <th>Accuracy</th>\n",
              "      <th>F1</th>\n",
              "      <th>Precision</th>\n",
              "      <th>Recall</th>\n",
              "    </tr>\n",
              "  </thead>\n",
              "  <tbody>\n",
              "    <tr>\n",
              "      <td>1</td>\n",
              "      <td>0.225700</td>\n",
              "      <td>0.182159</td>\n",
              "      <td>0.940252</td>\n",
              "      <td>0.928030</td>\n",
              "      <td>0.938697</td>\n",
              "      <td>0.917603</td>\n",
              "    </tr>\n",
              "    <tr>\n",
              "      <td>2</td>\n",
              "      <td>0.140800</td>\n",
              "      <td>0.192961</td>\n",
              "      <td>0.943396</td>\n",
              "      <td>0.932075</td>\n",
              "      <td>0.939163</td>\n",
              "      <td>0.925094</td>\n",
              "    </tr>\n",
              "  </tbody>\n",
              "</table><p>"
            ],
            "text/plain": [
              "<IPython.core.display.HTML object>"
            ]
          },
          "metadata": {},
          "output_type": "display_data"
        },
        {
          "data": {
            "text/plain": [
              "TrainOutput(global_step=892, training_loss=0.2054669194157348, metrics={'train_runtime': 5768.7212, 'train_samples_per_second': 1.543, 'train_steps_per_second': 0.155, 'total_flos': 294872429408256.0, 'train_loss': 0.2054669194157348, 'epoch': 2.0})"
            ]
          },
          "execution_count": 21,
          "metadata": {},
          "output_type": "execute_result"
        }
      ],
      "source": [
        "\n",
        "trainer.train()"
      ]
    },
    {
      "cell_type": "code",
      "execution_count": 22,
      "metadata": {
        "colab": {
          "base_uri": "https://localhost:8080/",
          "height": 109
        },
        "id": "o9v4thEzg4MG",
        "outputId": "8087bf5b-11ba-4d7c-ab65-e6dd3a30bf50"
      },
      "outputs": [
        {
          "name": "stderr",
          "output_type": "stream",
          "text": [
            "/usr/local/lib/python3.12/dist-packages/torch/utils/data/dataloader.py:666: UserWarning: 'pin_memory' argument is set as true but no accelerator is found, then device pinned memory won't be used.\n",
            "  warnings.warn(warn_msg)\n"
          ]
        },
        {
          "data": {
            "text/html": [
              "\n",
              "    <div>\n",
              "      \n",
              "      <progress value='10' max='10' style='width:300px; height:20px; vertical-align: middle;'></progress>\n",
              "      [10/10 01:44]\n",
              "    </div>\n",
              "    "
            ],
            "text/plain": [
              "<IPython.core.display.HTML object>"
            ]
          },
          "metadata": {},
          "output_type": "display_data"
        },
        {
          "name": "stdout",
          "output_type": "stream",
          "text": [
            "Validation metrics: {'eval_loss': 0.19296057522296906, 'eval_accuracy': 0.9433962264150944, 'eval_f1': 0.9320754716981132, 'eval_precision': 0.9391634980988594, 'eval_recall': 0.9250936329588015, 'eval_runtime': 121.1845, 'eval_samples_per_second': 5.248, 'eval_steps_per_second': 0.083, 'epoch': 2.0}\n"
          ]
        }
      ],
      "source": [
        "eval_metrics = trainer.evaluate()     # uses val_dataset\n",
        "print(\"Validation metrics:\", eval_metrics)# shows eval_loss, accuracy, precision, recall, f1 (from compute_metrics)\n"
      ]
    },
    {
      "cell_type": "code",
      "execution_count": 23,
      "metadata": {
        "colab": {
          "base_uri": "https://localhost:8080/",
          "height": 72
        },
        "id": "LmdYAAZa2NK-",
        "outputId": "82c97013-fe3e-4fd6-8a93-7e445b552783"
      },
      "outputs": [
        {
          "name": "stderr",
          "output_type": "stream",
          "text": [
            "/usr/local/lib/python3.12/dist-packages/torch/utils/data/dataloader.py:666: UserWarning: 'pin_memory' argument is set as true but no accelerator is found, then device pinned memory won't be used.\n",
            "  warnings.warn(warn_msg)\n"
          ]
        },
        {
          "data": {
            "text/html": [],
            "text/plain": [
              "<IPython.core.display.HTML object>"
            ]
          },
          "metadata": {},
          "output_type": "display_data"
        }
      ],
      "source": [
        "# get test set prediction\n",
        "pred = trainer.predict(test_dataset)\n",
        "y_true = pred.label_ids\n",
        "y_pred = pred.predictions.argmax(-1)"
      ]
    },
    {
      "cell_type": "code",
      "execution_count": 24,
      "metadata": {
        "colab": {
          "base_uri": "https://localhost:8080/",
          "height": 454
        },
        "id": "pEbYIwPqhHh2",
        "outputId": "0c044764-02b8-4d8f-81ac-2583c797b3f4"
      },
      "outputs": [
        {
          "name": "stderr",
          "output_type": "stream",
          "text": [
            "/usr/local/lib/python3.12/dist-packages/torch/utils/data/dataloader.py:666: UserWarning: 'pin_memory' argument is set as true but no accelerator is found, then device pinned memory won't be used.\n",
            "  warnings.warn(warn_msg)\n"
          ]
        },
        {
          "data": {
            "text/html": [],
            "text/plain": [
              "<IPython.core.display.HTML object>"
            ]
          },
          "metadata": {},
          "output_type": "display_data"
        },
        {
          "name": "stdout",
          "output_type": "stream",
          "text": [
            "Test metrics from Trainer: {'test_loss': 0.21137818694114685, 'test_accuracy': 0.9331761006289309, 'test_f1': 0.9189704480457579, 'test_precision': 0.9359223300970874, 'test_recall': 0.9026217228464419, 'test_runtime': 279.5044, 'test_samples_per_second': 4.551, 'test_steps_per_second': 0.072}\n",
            "\n",
            "Confusion matrix:\n",
            "[[705  33]\n",
            " [ 52 482]]\n",
            "\n",
            "Classification report:\n",
            "              precision    recall  f1-score   support\n",
            "\n",
            "        Safe       0.93      0.96      0.94       738\n",
            "    Phishing       0.94      0.90      0.92       534\n",
            "\n",
            "    accuracy                           0.93      1272\n",
            "   macro avg       0.93      0.93      0.93      1272\n",
            "weighted avg       0.93      0.93      0.93      1272\n",
            "\n",
            "\n",
            "Core metrics:\n",
            "Accuracy:  0.9331761006289309\n",
            "Precision: 0.9359223300970874\n",
            "Recall:    0.9026217228464419\n",
            "F1 Score:  0.9189704480457579\n"
          ]
        }
      ],
      "source": [
        "\n",
        "# print(confusion_matrix(y_true, y_pred))\n",
        "# print(classification_report(y_true, y_pred, target_names=[\"Safe\",\"Phishing\"]))\n",
        "\n",
        "test_pred = trainer.predict(test_dataset, metric_key_prefix=\"test\")\n",
        "print(\"Test metrics from Trainer:\", test_pred.metrics)\n",
        "\n",
        "print(\"\\nConfusion matrix:\")\n",
        "print(confusion_matrix(y_true, y_pred, labels=[0,1]))\n",
        "print(\"\\nClassification report:\")\n",
        "print(classification_report(y_true, y_pred, labels=[0,1], target_names=[\"Safe\",\"Phishing\"], zero_division=0))\n",
        "\n",
        "print(\"\\nCore metrics:\")\n",
        "print(\"Accuracy: \", accuracy_score(y_true, y_pred))\n",
        "print(\"Precision:\", precision_score(y_true, y_pred, zero_division=0))\n",
        "print(\"Recall:   \", recall_score(y_true, y_pred, zero_division=0))\n",
        "print(\"F1 Score: \", f1_score(y_true, y_pred, zero_division=0))\n",
        "\n"
      ]
    },
    {
      "cell_type": "code",
      "execution_count": 25,
      "metadata": {
        "colab": {
          "base_uri": "https://localhost:8080/",
          "height": 1000
        },
        "id": "Ynu5umLhIM44",
        "outputId": "57d04b89-5f56-4c06-a564-38f952181b58"
      },
      "outputs": [
        {
          "data": {
            "image/png": "[encoded data removed]",
            "text/plain": [
              "<Figure size 1000x600 with 1 Axes>"
            ]
          },
          "metadata": {},
          "output_type": "display_data"
        },
        {
          "data": {
            "image/png": "[encoded data removed]",
            "text/plain": [
              "<Figure size 1000x600 with 1 Axes>"
            ]
          },
          "metadata": {},
          "output_type": "display_data"
        }
      ],
      "source": [
        "import matplotlib.pyplot as plt\n",
        "from collections import defaultdict\n",
        "\n",
        "\n",
        "\n",
        "import matplotlib.pyplot as plt\n",
        "\n",
        "logs = trainer.state.log_history\n",
        "\n",
        "# train loss by STEP\n",
        "train_steps = [e[\"step\"] for e in logs if \"loss\" in e and \"step\" in e]\n",
        "train_loss  = [e[\"loss\"] for e in logs if \"loss\" in e and \"step\" in e]\n",
        "\n",
        "# eval metrics by EPOCH\n",
        "eval_epochs = [int(round(e[\"epoch\"])) for e in logs if \"eval_loss\" in e]\n",
        "val_loss    = [e[\"eval_loss\"] for e in logs if \"eval_loss\" in e]\n",
        "val_acc     = [e[\"eval_accuracy\"] for e in logs if \"eval_accuracy\" in e]\n",
        "\n",
        "# Loss plot\n",
        "plt.figure(figsize=(10,6))\n",
        "plt.plot(train_steps, train_loss, label=\"Training Loss\")\n",
        "if val_loss:\n",
        "    plt.scatter(eval_epochs, val_loss, marker=\"o\", label=\"Validation Loss\")\n",
        "plt.xlabel(\"Step (train) / Epoch (eval)\"); plt.ylabel(\"Loss\")\n",
        "plt.title(\"Training & Validation Loss\"); plt.legend(); plt.tight_layout(); plt.show()\n",
        "\n",
        "# Validation accuracy plot\n",
        "if val_acc:\n",
        "    plt.figure(figsize=(10,6))\n",
        "    plt.plot(eval_epochs, val_acc, marker=\"o\", label=\"Validation Accuracy\")\n",
        "    plt.xlabel(\"Epoch\"); plt.ylabel(\"Accuracy\")\n",
        "    plt.title(\"Validation Accuracy\"); plt.legend(); plt.tight_layout(); plt.show()\n",
        "\n",
        "\n"
      ]
    },
    {
      "cell_type": "code",
      "execution_count": 26,
      "metadata": {
        "colab": {
          "base_uri": "https://localhost:8080/",
          "height": 1000
        },
        "id": "Q9chGb3bHtIG",
        "outputId": "3c3f49a0-805b-4787-ffe0-517f98de6ac9"
      },
      "outputs": [
        {
          "data": {
            "image/png": "[encoded data removed]",
            "text/plain": [
              "<Figure size 1000x600 with 1 Axes>"
            ]
          },
          "metadata": {},
          "output_type": "display_data"
        },
        {
          "data": {
            "image/png": "[encoded data removed]",
            "text/plain": [
              "<Figure size 1000x600 with 1 Axes>"
            ]
          },
          "metadata": {},
          "output_type": "display_data"
        }
      ],
      "source": [
        "from collections import defaultdict\n",
        "from math import ceil\n",
        "import matplotlib.pyplot as plt\n",
        "\n",
        "logs = trainer.state.log_history\n",
        "\n",
        "# average training loss per epoch\n",
        "epoch_sum, epoch_cnt = defaultdict(float), defaultdict(int)\n",
        "last_ep = 1\n",
        "for e in logs:\n",
        "    if \"epoch\" in e:\n",
        "        last_ep = max(1, int(ceil(e[\"epoch\"])))\n",
        "    if \"loss\" in e:\n",
        "        epoch_sum[last_ep] += e[\"loss\"]\n",
        "        epoch_cnt[last_ep] += 1\n",
        "\n",
        "train_epochs   = sorted(epoch_sum)\n",
        "avg_train_loss = [epoch_sum[ep]/epoch_cnt[ep] for ep in train_epochs]\n",
        "\n",
        "# eval (per epoch)\n",
        "eval_epochs = [int(round(e[\"epoch\"])) for e in logs if \"eval_loss\" in e]\n",
        "val_loss    = [e[\"eval_loss\"] for e in logs if \"eval_loss\" in e]\n",
        "val_acc     = [e[\"eval_accuracy\"] for e in logs if \"eval_accuracy\" in e]\n",
        "\n",
        "# aligned loss plot\n",
        "plt.figure(figsize=(10,6))\n",
        "plt.plot(train_epochs, avg_train_loss, marker=\"o\", label=\"Avg Train Loss / Epoch\")\n",
        "if val_loss:\n",
        "    plt.plot(eval_epochs, val_loss, marker=\"o\", label=\"Validation Loss\")\n",
        "plt.xticks(range(1, max([*train_epochs, *eval_epochs], default=1)+1))\n",
        "plt.xlabel(\"Epoch\"); plt.ylabel(\"Loss\"); plt.title(\"Per-Epoch Train vs Validation Loss\")\n",
        "plt.legend(); plt.tight_layout(); plt.show()\n",
        "\n",
        "# validation accuracy\n",
        "if val_acc:\n",
        "    plt.figure(figsize=(10,6))\n",
        "    plt.plot(eval_epochs, val_acc, marker=\"o\", label=\"Validation Accuracy\")\n",
        "    plt.xticks(range(1, max(eval_epochs)+1))\n",
        "    plt.xlabel(\"Epoch\"); plt.ylabel(\"Accuracy\"); plt.title(\"Validation Accuracy\")\n",
        "    plt.legend(); plt.tight_layout(); plt.show()\n"
      ]
    },
    {
      "cell_type": "code",
      "execution_count": 27,
      "metadata": {
        "id": "UXmubNwS---o"
      },
      "outputs": [],
      "source": [
        "args = TrainingArguments(\n",
        "    output_dir='./results',\n",
        "    logging_strategy=\"steps\",     # or \"epoch\" (either is fine)\n",
        "    logging_steps=50,             # if using \"steps\"\n",
        "    eval_strategy=\"epoch\",  # <-- ensures eval_* appears once per epoch\n",
        "    # compute_metrics=compute_metrics,  # already set on your Trainer\n",
        ")"
      ]
    },
    {
      "cell_type": "code",
      "execution_count": 28,
      "metadata": {
        "colab": {
          "base_uri": "https://localhost:8080/"
        },
        "id": "tgk1Rz3O_Mq-",
        "outputId": "c1ad1cb5-9a5d-440d-e76d-5d5429db337f"
      },
      "outputs": [
        {
          "name": "stdout",
          "output_type": "stream",
          "text": [
            "train_epochs: [1, 2]\n",
            "avg_train_loss: [0.26022500000000004, 0.16413333333333335]\n",
            "eval_epochs: [1, 2, 2]\n",
            "val_loss: [0.182159423828125, 0.19296057522296906, 0.19296057522296906]\n"
          ]
        }
      ],
      "source": [
        "print(\"train_epochs:\", train_epochs)\n",
        "print(\"avg_train_loss:\", avg_train_loss)\n",
        "print(\"eval_epochs:\", eval_epochs)\n",
        "print(\"val_loss:\", val_loss)\n"
      ]
    },
    {
      "cell_type": "code",
      "execution_count": 29,
      "metadata": {
        "colab": {
          "base_uri": "https://localhost:8080/"
        },
        "id": "RldcSYi3JlOT",
        "outputId": "593cab29-c628-4cde-96c8-e096bf4a8f9c"
      },
      "outputs": [
        {
          "data": {
            "text/plain": [
              "('final_model/tokenizer_config.json',\n",
              " 'final_model/special_tokens_map.json',\n",
              " 'final_model/vocab.txt',\n",
              " 'final_model/added_tokens.json',\n",
              " 'final_model/tokenizer.json')"
            ]
          },
          "execution_count": 29,
          "metadata": {},
          "output_type": "execute_result"
        }
      ],
      "source": [
        "#save the final model and tokenize\n",
        "trainer.save_model('final_model')\n",
        "tokenizer.save_pretrained('final_model')"
      ]
    },
    {
      "cell_type": "code",
      "execution_count": 30,
      "metadata": {
        "id": "Np4drakIJ2Mt"
      },
      "outputs": [],
      "source": [
        "# test the model\n",
        "test_encoding = tokenizer(test_text, truncation=True, padding=True)\n",
        "#convert to PyTorch Dataset\n",
        "test_dataset = Dataset(test_encoding, test_labels)\n"
      ]
    },
    {
      "cell_type": "code",
      "execution_count": 33,
      "metadata": {
        "colab": {
          "base_uri": "https://localhost:8080/",
          "height": 564
        },
        "id": "qG5hZE99MK8_",
        "outputId": "73675017-e548-4efc-fbdf-cc184371e686"
      },
      "outputs": [
        {
          "data": {
            "image/png": "[encoded data removed]",
            "text/plain": [
              "<Figure size 800x600 with 2 Axes>"
            ]
          },
          "metadata": {},
          "output_type": "display_data"
        }
      ],
      "source": [
        "# plot confusion matrix\n",
        "cm = confusion_matrix(y_true, y_pred)\n",
        "plt.figure(figsize=(8, 6))\n",
        "sns.heatmap(cm, annot=True, fmt='d', cmap='Blues', xticklabels=['Non-Phishing', 'Phishing'], yticklabels=['Non-Phishing', 'Phishing'])\n",
        "plt.xlabel('Predicted')\n",
        "plt.ylabel('Actual')\n",
        "plt.title('Confusion Matrix')\n",
        "plt.show()"
      ]
    },
    {
      "cell_type": "markdown",
      "metadata": {
        "id": "ohc0S_sUNHnC"
      },
      "source": [
        "https://www.youtube.com/watch?v=AT857mWvl0g"
      ]
    },
    {
      "cell_type": "markdown",
      "metadata": {
        "id": "ImQMPH_dMKlN"
      },
      "source": []
    }
  ],
  "metadata": {
    "colab": {
      "provenance": []
    },
    "kernelspec": {
      "display_name": "Python 3",
      "name": "python3"
    },
    "language_info": {
      "name": "python"
    },
    "widgets": {
      "application/vnd.jupyter.widget-state+json": {
        "015e6a3bc53b430bbe9199ed10ef8fa8": {
          "model_module": "@jupyter-widgets/base",
          "model_module_version": "1.2.0",
          "model_name": "LayoutModel",
          "state": {
            "_model_module": "@jupyter-widgets/base",
            "_model_module_version": "1.2.0",
            "_model_name": "LayoutModel",
            "_view_count": null,
            "_view_module": "@jupyter-widgets/base",
            "_view_module_version": "1.2.0",
            "_view_name": "LayoutView",
            "align_content": null,
            "align_items": null,
            "align_self": null,
            "border": null,
            "bottom": null,
            "display": null,
            "flex": null,
            "flex_flow": null,
            "grid_area": null,
            "grid_auto_columns": null,
            "grid_auto_flow": null,
            "grid_auto_rows": null,
            "grid_column": null,
            "grid_gap": null,
            "grid_row": null,
            "grid_template_areas": null,
            "grid_template_columns": null,
            "grid_template_rows": null,
            "height": null,
            "justify_content": null,
            "justify_items": null,
            "left": null,
            "margin": null,
            "max_height": null,
            "max_width": null,
            "min_height": null,
            "min_width": null,
            "object_fit": null,
            "object_position": null,
            "order": null,
            "overflow": null,
            "overflow_x": null,
            "overflow_y": null,
            "padding": null,
            "right": null,
            "top": null,
            "visibility": null,
            "width": null
          }
        },
        "082ecdae250140b4bad2c52e9e7d17ed": {
          "model_module": "@jupyter-widgets/base",
          "model_module_version": "1.2.0",
          "model_name": "LayoutModel",
          "state": {
            "_model_module": "@jupyter-widgets/base",
            "_model_module_version": "1.2.0",
            "_model_name": "LayoutModel",
            "_view_count": null,
            "_view_module": "@jupyter-widgets/base",
            "_view_module_version": "1.2.0",
            "_view_name": "LayoutView",
            "align_content": null,
            "align_items": null,
            "align_self": null,
            "border": null,
            "bottom": null,
            "display": null,
            "flex": null,
            "flex_flow": null,
            "grid_area": null,
            "grid_auto_columns": null,
            "grid_auto_flow": null,
            "grid_auto_rows": null,
            "grid_column": null,
            "grid_gap": null,
            "grid_row": null,
            "grid_template_areas": null,
            "grid_template_columns": null,
            "grid_template_rows": null,
            "height": null,
            "justify_content": null,
            "justify_items": null,
            "left": null,
            "margin": null,
            "max_height": null,
            "max_width": null,
            "min_height": null,
            "min_width": null,
            "object_fit": null,
            "object_position": null,
            "order": null,
            "overflow": null,
            "overflow_x": null,
            "overflow_y": null,
            "padding": null,
            "right": null,
            "top": null,
            "visibility": null,
            "width": null
          }
        },
        "14977344435048598a03958ddb6fa487": {
          "model_module": "@jupyter-widgets/controls",
          "model_module_version": "1.5.0",
          "model_name": "DescriptionStyleModel",
          "state": {
            "_model_module": "@jupyter-widgets/controls",
            "_model_module_version": "1.5.0",
            "_model_name": "DescriptionStyleModel",
            "_view_count": null,
            "_view_module": "@jupyter-widgets/base",
            "_view_module_version": "1.2.0",
            "_view_name": "StyleView",
            "description_width": ""
          }
        },
        "14986c8cd281494f81832ce2785f37de": {
          "model_module": "@jupyter-widgets/base",
          "model_module_version": "1.2.0",
          "model_name": "LayoutModel",
          "state": {
            "_model_module": "@jupyter-widgets/base",
            "_model_module_version": "1.2.0",
            "_model_name": "LayoutModel",
            "_view_count": null,
            "_view_module": "@jupyter-widgets/base",
            "_view_module_version": "1.2.0",
            "_view_name": "LayoutView",
            "align_content": null,
            "align_items": null,
            "align_self": null,
            "border": null,
            "bottom": null,
            "display": null,
            "flex": null,
            "flex_flow": null,
            "grid_area": null,
            "grid_auto_columns": null,
            "grid_auto_flow": null,
            "grid_auto_rows": null,
            "grid_column": null,
            "grid_gap": null,
            "grid_row": null,
            "grid_template_areas": null,
            "grid_template_columns": null,
            "grid_template_rows": null,
            "height": null,
            "justify_content": null,
            "justify_items": null,
            "left": null,
            "margin": null,
            "max_height": null,
            "max_width": null,
            "min_height": null,
            "min_width": null,
            "object_fit": null,
            "object_position": null,
            "order": null,
            "overflow": null,
            "overflow_x": null,
            "overflow_y": null,
            "padding": null,
            "right": null,
            "top": null,
            "visibility": null,
            "width": null
          }
        },
        "1dcdfaf4797f46efb476d95700cd855e": {
          "model_module": "@jupyter-widgets/base",
          "model_module_version": "1.2.0",
          "model_name": "LayoutModel",
          "state": {
            "_model_module": "@jupyter-widgets/base",
            "_model_module_version": "1.2.0",
            "_model_name": "LayoutModel",
            "_view_count": null,
            "_view_module": "@jupyter-widgets/base",
            "_view_module_version": "1.2.0",
            "_view_name": "LayoutView",
            "align_content": null,
            "align_items": null,
            "align_self": null,
            "border": null,
            "bottom": null,
            "display": null,
            "flex": null,
            "flex_flow": null,
            "grid_area": null,
            "grid_auto_columns": null,
            "grid_auto_flow": null,
            "grid_auto_rows": null,
            "grid_column": null,
            "grid_gap": null,
            "grid_row": null,
            "grid_template_areas": null,
            "grid_template_columns": null,
            "grid_template_rows": null,
            "height": null,
            "justify_content": null,
            "justify_items": null,
            "left": null,
            "margin": null,
            "max_height": null,
            "max_width": null,
            "min_height": null,
            "min_width": null,
            "object_fit": null,
            "object_position": null,
            "order": null,
            "overflow": null,
            "overflow_x": null,
            "overflow_y": null,
            "padding": null,
            "right": null,
            "top": null,
            "visibility": null,
            "width": null
          }
        },
        "27439f2b2ea543cfb945b65efe8d48ab": {
          "model_module": "@jupyter-widgets/controls",
          "model_module_version": "1.5.0",
          "model_name": "HTMLModel",
          "state": {
            "_dom_classes": [],
            "_model_module": "@jupyter-widgets/controls",
            "_model_module_version": "1.5.0",
            "_model_name": "HTMLModel",
            "_view_count": null,
            "_view_module": "@jupyter-widgets/controls",
            "_view_module_version": "1.5.0",
            "_view_name": "HTMLView",
            "description": "",
            "description_tooltip": null,
            "layout": "IPY_MODEL_c17cef9de61d4f46a13e204750dd058a",
            "placeholder": "​",
            "style": "IPY_MODEL_950181f796b049dd9d874fa285083fb3",
            "value": "model.safetensors: 100%"
          }
        },
        "290c702bf614486dbe9536496c403089": {
          "model_module": "@jupyter-widgets/controls",
          "model_module_version": "1.5.0",
          "model_name": "FloatProgressModel",
          "state": {
            "_dom_classes": [],
            "_model_module": "@jupyter-widgets/controls",
            "_model_module_version": "1.5.0",
            "_model_name": "FloatProgressModel",
            "_view_count": null,
            "_view_module": "@jupyter-widgets/controls",
            "_view_module_version": "1.5.0",
            "_view_name": "ProgressView",
            "bar_style": "success",
            "description": "",
            "description_tooltip": null,
            "layout": "IPY_MODEL_a13e645c44b04001bcef1efaf1a8a6d0",
            "max": 483,
            "min": 0,
            "orientation": "horizontal",
            "style": "IPY_MODEL_342aa76ae82047f284ccd10806ecec87",
            "value": 483
          }
        },
        "2c1a7c7cf5b340559aa9d7c51e9c29c3": {
          "model_module": "@jupyter-widgets/base",
          "model_module_version": "1.2.0",
          "model_name": "LayoutModel",
          "state": {
            "_model_module": "@jupyter-widgets/base",
            "_model_module_version": "1.2.0",
            "_model_name": "LayoutModel",
            "_view_count": null,
            "_view_module": "@jupyter-widgets/base",
            "_view_module_version": "1.2.0",
            "_view_name": "LayoutView",
            "align_content": null,
            "align_items": null,
            "align_self": null,
            "border": null,
            "bottom": null,
            "display": null,
            "flex": null,
            "flex_flow": null,
            "grid_area": null,
            "grid_auto_columns": null,
            "grid_auto_flow": null,
            "grid_auto_rows": null,
            "grid_column": null,
            "grid_gap": null,
            "grid_row": null,
            "grid_template_areas": null,
            "grid_template_columns": null,
            "grid_template_rows": null,
            "height": null,
            "justify_content": null,
            "justify_items": null,
            "left": null,
            "margin": null,
            "max_height": null,
            "max_width": null,
            "min_height": null,
            "min_width": null,
            "object_fit": null,
            "object_position": null,
            "order": null,
            "overflow": null,
            "overflow_x": null,
            "overflow_y": null,
            "padding": null,
            "right": null,
            "top": null,
            "visibility": null,
            "width": null
          }
        },
        "342aa76ae82047f284ccd10806ecec87": {
          "model_module": "@jupyter-widgets/controls",
          "model_module_version": "1.5.0",
          "model_name": "ProgressStyleModel",
          "state": {
            "_model_module": "@jupyter-widgets/controls",
            "_model_module_version": "1.5.0",
            "_model_name": "ProgressStyleModel",
            "_view_count": null,
            "_view_module": "@jupyter-widgets/base",
            "_view_module_version": "1.2.0",
            "_view_name": "StyleView",
            "bar_color": null,
            "description_width": ""
          }
        },
        "3f7cf6bbc18547709f36cb1c5568ff7f": {
          "model_module": "@jupyter-widgets/base",
          "model_module_version": "1.2.0",
          "model_name": "LayoutModel",
          "state": {
            "_model_module": "@jupyter-widgets/base",
            "_model_module_version": "1.2.0",
            "_model_name": "LayoutModel",
            "_view_count": null,
            "_view_module": "@jupyter-widgets/base",
            "_view_module_version": "1.2.0",
            "_view_name": "LayoutView",
            "align_content": null,
            "align_items": null,
            "align_self": null,
            "border": null,
            "bottom": null,
            "display": null,
            "flex": null,
            "flex_flow": null,
            "grid_area": null,
            "grid_auto_columns": null,
            "grid_auto_flow": null,
            "grid_auto_rows": null,
            "grid_column": null,
            "grid_gap": null,
            "grid_row": null,
            "grid_template_areas": null,
            "grid_template_columns": null,
            "grid_template_rows": null,
            "height": null,
            "justify_content": null,
            "justify_items": null,
            "left": null,
            "margin": null,
            "max_height": null,
            "max_width": null,
            "min_height": null,
            "min_width": null,
            "object_fit": null,
            "object_position": null,
            "order": null,
            "overflow": null,
            "overflow_x": null,
            "overflow_y": null,
            "padding": null,
            "right": null,
            "top": null,
            "visibility": null,
            "width": null
          }
        },
        "40150e7f9c4f4534b8eda9e0abadebfd": {
          "model_module": "@jupyter-widgets/controls",
          "model_module_version": "1.5.0",
          "model_name": "HTMLModel",
          "state": {
            "_dom_classes": [],
            "_model_module": "@jupyter-widgets/controls",
            "_model_module_version": "1.5.0",
            "_model_name": "HTMLModel",
            "_view_count": null,
            "_view_module": "@jupyter-widgets/controls",
            "_view_module_version": "1.5.0",
            "_view_name": "HTMLView",
            "description": "",
            "description_tooltip": null,
            "layout": "IPY_MODEL_cb0d1e5f5d08468ba24a855b16061812",
            "placeholder": "​",
            "style": "IPY_MODEL_5bce4ab7fac746a6b0c33ae0c269aa0d",
            "value": "tokenizer_config.json: 100%"
          }
        },
        "41050f3aaad34d549cdb2d930ded3f9b": {
          "model_module": "@jupyter-widgets/base",
          "model_module_version": "1.2.0",
          "model_name": "LayoutModel",
          "state": {
            "_model_module": "@jupyter-widgets/base",
            "_model_module_version": "1.2.0",
            "_model_name": "LayoutModel",
            "_view_count": null,
            "_view_module": "@jupyter-widgets/base",
            "_view_module_version": "1.2.0",
            "_view_name": "LayoutView",
            "align_content": null,
            "align_items": null,
            "align_self": null,
            "border": null,
            "bottom": null,
            "display": null,
            "flex": null,
            "flex_flow": null,
            "grid_area": null,
            "grid_auto_columns": null,
            "grid_auto_flow": null,
            "grid_auto_rows": null,
            "grid_column": null,
            "grid_gap": null,
            "grid_row": null,
            "grid_template_areas": null,
            "grid_template_columns": null,
            "grid_template_rows": null,
            "height": null,
            "justify_content": null,
            "justify_items": null,
            "left": null,
            "margin": null,
            "max_height": null,
            "max_width": null,
            "min_height": null,
            "min_width": null,
            "object_fit": null,
            "object_position": null,
            "order": null,
            "overflow": null,
            "overflow_x": null,
            "overflow_y": null,
            "padding": null,
            "right": null,
            "top": null,
            "visibility": null,
            "width": null
          }
        },
        "43628d6502f54ec8851d0d93a910ba31": {
          "model_module": "@jupyter-widgets/base",
          "model_module_version": "1.2.0",
          "model_name": "LayoutModel",
          "state": {
            "_model_module": "@jupyter-widgets/base",
            "_model_module_version": "1.2.0",
            "_model_name": "LayoutModel",
            "_view_count": null,
            "_view_module": "@jupyter-widgets/base",
            "_view_module_version": "1.2.0",
            "_view_name": "LayoutView",
            "align_content": null,
            "align_items": null,
            "align_self": null,
            "border": null,
            "bottom": null,
            "display": null,
            "flex": null,
            "flex_flow": null,
            "grid_area": null,
            "grid_auto_columns": null,
            "grid_auto_flow": null,
            "grid_auto_rows": null,
            "grid_column": null,
            "grid_gap": null,
            "grid_row": null,
            "grid_template_areas": null,
            "grid_template_columns": null,
            "grid_template_rows": null,
            "height": null,
            "justify_content": null,
            "justify_items": null,
            "left": null,
            "margin": null,
            "max_height": null,
            "max_width": null,
            "min_height": null,
            "min_width": null,
            "object_fit": null,
            "object_position": null,
            "order": null,
            "overflow": null,
            "overflow_x": null,
            "overflow_y": null,
            "padding": null,
            "right": null,
            "top": null,
            "visibility": null,
            "width": null
          }
        },
        "4b177b67fb99456ea48dbb1c9bcd5e4c": {
          "model_module": "@jupyter-widgets/controls",
          "model_module_version": "1.5.0",
          "model_name": "FloatProgressModel",
          "state": {
            "_dom_classes": [],
            "_model_module": "@jupyter-widgets/controls",
            "_model_module_version": "1.5.0",
            "_model_name": "FloatProgressModel",
            "_view_count": null,
            "_view_module": "@jupyter-widgets/controls",
            "_view_module_version": "1.5.0",
            "_view_name": "ProgressView",
            "bar_style": "success",
            "description": "",
            "description_tooltip": null,
            "layout": "IPY_MODEL_015e6a3bc53b430bbe9199ed10ef8fa8",
            "max": 231508,
            "min": 0,
            "orientation": "horizontal",
            "style": "IPY_MODEL_4b3ec00341f642e0a6c5c6e3d15c48e7",
            "value": 231508
          }
        },
        "4b3ec00341f642e0a6c5c6e3d15c48e7": {
          "model_module": "@jupyter-widgets/controls",
          "model_module_version": "1.5.0",
          "model_name": "ProgressStyleModel",
          "state": {
            "_model_module": "@jupyter-widgets/controls",
            "_model_module_version": "1.5.0",
            "_model_name": "ProgressStyleModel",
            "_view_count": null,
            "_view_module": "@jupyter-widgets/base",
            "_view_module_version": "1.2.0",
            "_view_name": "StyleView",
            "bar_color": null,
            "description_width": ""
          }
        },
        "51344fd478c7452b85de3e52cc063e2f": {
          "model_module": "@jupyter-widgets/base",
          "model_module_version": "1.2.0",
          "model_name": "LayoutModel",
          "state": {
            "_model_module": "@jupyter-widgets/base",
            "_model_module_version": "1.2.0",
            "_model_name": "LayoutModel",
            "_view_count": null,
            "_view_module": "@jupyter-widgets/base",
            "_view_module_version": "1.2.0",
            "_view_name": "LayoutView",
            "align_content": null,
            "align_items": null,
            "align_self": null,
            "border": null,
            "bottom": null,
            "display": null,
            "flex": null,
            "flex_flow": null,
            "grid_area": null,
            "grid_auto_columns": null,
            "grid_auto_flow": null,
            "grid_auto_rows": null,
            "grid_column": null,
            "grid_gap": null,
            "grid_row": null,
            "grid_template_areas": null,
            "grid_template_columns": null,
            "grid_template_rows": null,
            "height": null,
            "justify_content": null,
            "justify_items": null,
            "left": null,
            "margin": null,
            "max_height": null,
            "max_width": null,
            "min_height": null,
            "min_width": null,
            "object_fit": null,
            "object_position": null,
            "order": null,
            "overflow": null,
            "overflow_x": null,
            "overflow_y": null,
            "padding": null,
            "right": null,
            "top": null,
            "visibility": null,
            "width": null
          }
        },
        "55e645f16b57430b80ab5d643238e9d6": {
          "model_module": "@jupyter-widgets/controls",
          "model_module_version": "1.5.0",
          "model_name": "HBoxModel",
          "state": {
            "_dom_classes": [],
            "_model_module": "@jupyter-widgets/controls",
            "_model_module_version": "1.5.0",
            "_model_name": "HBoxModel",
            "_view_count": null,
            "_view_module": "@jupyter-widgets/controls",
            "_view_module_version": "1.5.0",
            "_view_name": "HBoxView",
            "box_style": "",
            "children": [
              "IPY_MODEL_862abaafa6574224b5ea7c413b683dc5",
              "IPY_MODEL_4b177b67fb99456ea48dbb1c9bcd5e4c",
              "IPY_MODEL_d87c5246b29349dc8aae36188f3963d4"
            ],
            "layout": "IPY_MODEL_43628d6502f54ec8851d0d93a910ba31"
          }
        },
        "581072bccdf648db918ba3094b308854": {
          "model_module": "@jupyter-widgets/controls",
          "model_module_version": "1.5.0",
          "model_name": "HTMLModel",
          "state": {
            "_dom_classes": [],
            "_model_module": "@jupyter-widgets/controls",
            "_model_module_version": "1.5.0",
            "_model_name": "HTMLModel",
            "_view_count": null,
            "_view_module": "@jupyter-widgets/controls",
            "_view_module_version": "1.5.0",
            "_view_name": "HTMLView",
            "description": "",
            "description_tooltip": null,
            "layout": "IPY_MODEL_1dcdfaf4797f46efb476d95700cd855e",
            "placeholder": "​",
            "style": "IPY_MODEL_e0ae5d6eaa3044e784cf8b8659cb2137",
            "value": " 466k/466k [00:00&lt;00:00, 4.73MB/s]"
          }
        },
        "5bce4ab7fac746a6b0c33ae0c269aa0d": {
          "model_module": "@jupyter-widgets/controls",
          "model_module_version": "1.5.0",
          "model_name": "DescriptionStyleModel",
          "state": {
            "_model_module": "@jupyter-widgets/controls",
            "_model_module_version": "1.5.0",
            "_model_name": "DescriptionStyleModel",
            "_view_count": null,
            "_view_module": "@jupyter-widgets/base",
            "_view_module_version": "1.2.0",
            "_view_name": "StyleView",
            "description_width": ""
          }
        },
        "628fca55bdff4ac199e7bf79036d1d9c": {
          "model_module": "@jupyter-widgets/base",
          "model_module_version": "1.2.0",
          "model_name": "LayoutModel",
          "state": {
            "_model_module": "@jupyter-widgets/base",
            "_model_module_version": "1.2.0",
            "_model_name": "LayoutModel",
            "_view_count": null,
            "_view_module": "@jupyter-widgets/base",
            "_view_module_version": "1.2.0",
            "_view_name": "LayoutView",
            "align_content": null,
            "align_items": null,
            "align_self": null,
            "border": null,
            "bottom": null,
            "display": null,
            "flex": null,
            "flex_flow": null,
            "grid_area": null,
            "grid_auto_columns": null,
            "grid_auto_flow": null,
            "grid_auto_rows": null,
            "grid_column": null,
            "grid_gap": null,
            "grid_row": null,
            "grid_template_areas": null,
            "grid_template_columns": null,
            "grid_template_rows": null,
            "height": null,
            "justify_content": null,
            "justify_items": null,
            "left": null,
            "margin": null,
            "max_height": null,
            "max_width": null,
            "min_height": null,
            "min_width": null,
            "object_fit": null,
            "object_position": null,
            "order": null,
            "overflow": null,
            "overflow_x": null,
            "overflow_y": null,
            "padding": null,
            "right": null,
            "top": null,
            "visibility": null,
            "width": null
          }
        },
        "629bc1fe40a34124924f1c185911350f": {
          "model_module": "@jupyter-widgets/controls",
          "model_module_version": "1.5.0",
          "model_name": "HTMLModel",
          "state": {
            "_dom_classes": [],
            "_model_module": "@jupyter-widgets/controls",
            "_model_module_version": "1.5.0",
            "_model_name": "HTMLModel",
            "_view_count": null,
            "_view_module": "@jupyter-widgets/controls",
            "_view_module_version": "1.5.0",
            "_view_name": "HTMLView",
            "description": "",
            "description_tooltip": null,
            "layout": "IPY_MODEL_2c1a7c7cf5b340559aa9d7c51e9c29c3",
            "placeholder": "​",
            "style": "IPY_MODEL_dfad1d52d77b4c83826e717b15c77222",
            "value": " 48.0/48.0 [00:00&lt;00:00, 1.11kB/s]"
          }
        },
        "6b6b60a11ef445c488d4b78a7b049b8d": {
          "model_module": "@jupyter-widgets/controls",
          "model_module_version": "1.5.0",
          "model_name": "DescriptionStyleModel",
          "state": {
            "_model_module": "@jupyter-widgets/controls",
            "_model_module_version": "1.5.0",
            "_model_name": "DescriptionStyleModel",
            "_view_count": null,
            "_view_module": "@jupyter-widgets/base",
            "_view_module_version": "1.2.0",
            "_view_name": "StyleView",
            "description_width": ""
          }
        },
        "70d63b26903e41889acd08ffab55e12a": {
          "model_module": "@jupyter-widgets/base",
          "model_module_version": "1.2.0",
          "model_name": "LayoutModel",
          "state": {
            "_model_module": "@jupyter-widgets/base",
            "_model_module_version": "1.2.0",
            "_model_name": "LayoutModel",
            "_view_count": null,
            "_view_module": "@jupyter-widgets/base",
            "_view_module_version": "1.2.0",
            "_view_name": "LayoutView",
            "align_content": null,
            "align_items": null,
            "align_self": null,
            "border": null,
            "bottom": null,
            "display": null,
            "flex": null,
            "flex_flow": null,
            "grid_area": null,
            "grid_auto_columns": null,
            "grid_auto_flow": null,
            "grid_auto_rows": null,
            "grid_column": null,
            "grid_gap": null,
            "grid_row": null,
            "grid_template_areas": null,
            "grid_template_columns": null,
            "grid_template_rows": null,
            "height": null,
            "justify_content": null,
            "justify_items": null,
            "left": null,
            "margin": null,
            "max_height": null,
            "max_width": null,
            "min_height": null,
            "min_width": null,
            "object_fit": null,
            "object_position": null,
            "order": null,
            "overflow": null,
            "overflow_x": null,
            "overflow_y": null,
            "padding": null,
            "right": null,
            "top": null,
            "visibility": null,
            "width": null
          }
        },
        "7563b8b1289242f88e511d62286a7ef1": {
          "model_module": "@jupyter-widgets/base",
          "model_module_version": "1.2.0",
          "model_name": "LayoutModel",
          "state": {
            "_model_module": "@jupyter-widgets/base",
            "_model_module_version": "1.2.0",
            "_model_name": "LayoutModel",
            "_view_count": null,
            "_view_module": "@jupyter-widgets/base",
            "_view_module_version": "1.2.0",
            "_view_name": "LayoutView",
            "align_content": null,
            "align_items": null,
            "align_self": null,
            "border": null,
            "bottom": null,
            "display": null,
            "flex": null,
            "flex_flow": null,
            "grid_area": null,
            "grid_auto_columns": null,
            "grid_auto_flow": null,
            "grid_auto_rows": null,
            "grid_column": null,
            "grid_gap": null,
            "grid_row": null,
            "grid_template_areas": null,
            "grid_template_columns": null,
            "grid_template_rows": null,
            "height": null,
            "justify_content": null,
            "justify_items": null,
            "left": null,
            "margin": null,
            "max_height": null,
            "max_width": null,
            "min_height": null,
            "min_width": null,
            "object_fit": null,
            "object_position": null,
            "order": null,
            "overflow": null,
            "overflow_x": null,
            "overflow_y": null,
            "padding": null,
            "right": null,
            "top": null,
            "visibility": null,
            "width": null
          }
        },
        "76c29d8f74f945d9b696d8648acc2810": {
          "model_module": "@jupyter-widgets/controls",
          "model_module_version": "1.5.0",
          "model_name": "HBoxModel",
          "state": {
            "_dom_classes": [],
            "_model_module": "@jupyter-widgets/controls",
            "_model_module_version": "1.5.0",
            "_model_name": "HBoxModel",
            "_view_count": null,
            "_view_module": "@jupyter-widgets/controls",
            "_view_module_version": "1.5.0",
            "_view_name": "HBoxView",
            "box_style": "",
            "children": [
              "IPY_MODEL_a26a117188ff4de8b8c0668b9a6d17fa",
              "IPY_MODEL_290c702bf614486dbe9536496c403089",
              "IPY_MODEL_d3188f4f10574d438a50a5076b134668"
            ],
            "layout": "IPY_MODEL_3f7cf6bbc18547709f36cb1c5568ff7f"
          }
        },
        "80acc1eee05245d48afe104c8e30fa9a": {
          "model_module": "@jupyter-widgets/base",
          "model_module_version": "1.2.0",
          "model_name": "LayoutModel",
          "state": {
            "_model_module": "@jupyter-widgets/base",
            "_model_module_version": "1.2.0",
            "_model_name": "LayoutModel",
            "_view_count": null,
            "_view_module": "@jupyter-widgets/base",
            "_view_module_version": "1.2.0",
            "_view_name": "LayoutView",
            "align_content": null,
            "align_items": null,
            "align_self": null,
            "border": null,
            "bottom": null,
            "display": null,
            "flex": null,
            "flex_flow": null,
            "grid_area": null,
            "grid_auto_columns": null,
            "grid_auto_flow": null,
            "grid_auto_rows": null,
            "grid_column": null,
            "grid_gap": null,
            "grid_row": null,
            "grid_template_areas": null,
            "grid_template_columns": null,
            "grid_template_rows": null,
            "height": null,
            "justify_content": null,
            "justify_items": null,
            "left": null,
            "margin": null,
            "max_height": null,
            "max_width": null,
            "min_height": null,
            "min_width": null,
            "object_fit": null,
            "object_position": null,
            "order": null,
            "overflow": null,
            "overflow_x": null,
            "overflow_y": null,
            "padding": null,
            "right": null,
            "top": null,
            "visibility": null,
            "width": null
          }
        },
        "81a35d6dc46443cabcb74d1fea5e0acd": {
          "model_module": "@jupyter-widgets/base",
          "model_module_version": "1.2.0",
          "model_name": "LayoutModel",
          "state": {
            "_model_module": "@jupyter-widgets/base",
            "_model_module_version": "1.2.0",
            "_model_name": "LayoutModel",
            "_view_count": null,
            "_view_module": "@jupyter-widgets/base",
            "_view_module_version": "1.2.0",
            "_view_name": "LayoutView",
            "align_content": null,
            "align_items": null,
            "align_self": null,
            "border": null,
            "bottom": null,
            "display": null,
            "flex": null,
            "flex_flow": null,
            "grid_area": null,
            "grid_auto_columns": null,
            "grid_auto_flow": null,
            "grid_auto_rows": null,
            "grid_column": null,
            "grid_gap": null,
            "grid_row": null,
            "grid_template_areas": null,
            "grid_template_columns": null,
            "grid_template_rows": null,
            "height": null,
            "justify_content": null,
            "justify_items": null,
            "left": null,
            "margin": null,
            "max_height": null,
            "max_width": null,
            "min_height": null,
            "min_width": null,
            "object_fit": null,
            "object_position": null,
            "order": null,
            "overflow": null,
            "overflow_x": null,
            "overflow_y": null,
            "padding": null,
            "right": null,
            "top": null,
            "visibility": null,
            "width": null
          }
        },
        "862abaafa6574224b5ea7c413b683dc5": {
          "model_module": "@jupyter-widgets/controls",
          "model_module_version": "1.5.0",
          "model_name": "HTMLModel",
          "state": {
            "_dom_classes": [],
            "_model_module": "@jupyter-widgets/controls",
            "_model_module_version": "1.5.0",
            "_model_name": "HTMLModel",
            "_view_count": null,
            "_view_module": "@jupyter-widgets/controls",
            "_view_module_version": "1.5.0",
            "_view_name": "HTMLView",
            "description": "",
            "description_tooltip": null,
            "layout": "IPY_MODEL_082ecdae250140b4bad2c52e9e7d17ed",
            "placeholder": "​",
            "style": "IPY_MODEL_a325b9a173444f84a57f43ff39687ecc",
            "value": "vocab.txt: 100%"
          }
        },
        "8e1757f83e9b4744a16c03cc85ac349b": {
          "model_module": "@jupyter-widgets/controls",
          "model_module_version": "1.5.0",
          "model_name": "FloatProgressModel",
          "state": {
            "_dom_classes": [],
            "_model_module": "@jupyter-widgets/controls",
            "_model_module_version": "1.5.0",
            "_model_name": "FloatProgressModel",
            "_view_count": null,
            "_view_module": "@jupyter-widgets/controls",
            "_view_module_version": "1.5.0",
            "_view_name": "ProgressView",
            "bar_style": "success",
            "description": "",
            "description_tooltip": null,
            "layout": "IPY_MODEL_80acc1eee05245d48afe104c8e30fa9a",
            "max": 466062,
            "min": 0,
            "orientation": "horizontal",
            "style": "IPY_MODEL_c5472f3c9fc3471fa5358c5206d13271",
            "value": 466062
          }
        },
        "950181f796b049dd9d874fa285083fb3": {
          "model_module": "@jupyter-widgets/controls",
          "model_module_version": "1.5.0",
          "model_name": "DescriptionStyleModel",
          "state": {
            "_model_module": "@jupyter-widgets/controls",
            "_model_module_version": "1.5.0",
            "_model_name": "DescriptionStyleModel",
            "_view_count": null,
            "_view_module": "@jupyter-widgets/base",
            "_view_module_version": "1.2.0",
            "_view_name": "StyleView",
            "description_width": ""
          }
        },
        "9fff0816dc934777b43462415a0d2ad6": {
          "model_module": "@jupyter-widgets/controls",
          "model_module_version": "1.5.0",
          "model_name": "ProgressStyleModel",
          "state": {
            "_model_module": "@jupyter-widgets/controls",
            "_model_module_version": "1.5.0",
            "_model_name": "ProgressStyleModel",
            "_view_count": null,
            "_view_module": "@jupyter-widgets/base",
            "_view_module_version": "1.2.0",
            "_view_name": "StyleView",
            "bar_color": null,
            "description_width": ""
          }
        },
        "a13e645c44b04001bcef1efaf1a8a6d0": {
          "model_module": "@jupyter-widgets/base",
          "model_module_version": "1.2.0",
          "model_name": "LayoutModel",
          "state": {
            "_model_module": "@jupyter-widgets/base",
            "_model_module_version": "1.2.0",
            "_model_name": "LayoutModel",
            "_view_count": null,
            "_view_module": "@jupyter-widgets/base",
            "_view_module_version": "1.2.0",
            "_view_name": "LayoutView",
            "align_content": null,
            "align_items": null,
            "align_self": null,
            "border": null,
            "bottom": null,
            "display": null,
            "flex": null,
            "flex_flow": null,
            "grid_area": null,
            "grid_auto_columns": null,
            "grid_auto_flow": null,
            "grid_auto_rows": null,
            "grid_column": null,
            "grid_gap": null,
            "grid_row": null,
            "grid_template_areas": null,
            "grid_template_columns": null,
            "grid_template_rows": null,
            "height": null,
            "justify_content": null,
            "justify_items": null,
            "left": null,
            "margin": null,
            "max_height": null,
            "max_width": null,
            "min_height": null,
            "min_width": null,
            "object_fit": null,
            "object_position": null,
            "order": null,
            "overflow": null,
            "overflow_x": null,
            "overflow_y": null,
            "padding": null,
            "right": null,
            "top": null,
            "visibility": null,
            "width": null
          }
        },
        "a26a117188ff4de8b8c0668b9a6d17fa": {
          "model_module": "@jupyter-widgets/controls",
          "model_module_version": "1.5.0",
          "model_name": "HTMLModel",
          "state": {
            "_dom_classes": [],
            "_model_module": "@jupyter-widgets/controls",
            "_model_module_version": "1.5.0",
            "_model_name": "HTMLModel",
            "_view_count": null,
            "_view_module": "@jupyter-widgets/controls",
            "_view_module_version": "1.5.0",
            "_view_name": "HTMLView",
            "description": "",
            "description_tooltip": null,
            "layout": "IPY_MODEL_628fca55bdff4ac199e7bf79036d1d9c",
            "placeholder": "​",
            "style": "IPY_MODEL_14977344435048598a03958ddb6fa487",
            "value": "config.json: 100%"
          }
        },
        "a325b9a173444f84a57f43ff39687ecc": {
          "model_module": "@jupyter-widgets/controls",
          "model_module_version": "1.5.0",
          "model_name": "DescriptionStyleModel",
          "state": {
            "_model_module": "@jupyter-widgets/controls",
            "_model_module_version": "1.5.0",
            "_model_name": "DescriptionStyleModel",
            "_view_count": null,
            "_view_module": "@jupyter-widgets/base",
            "_view_module_version": "1.2.0",
            "_view_name": "StyleView",
            "description_width": ""
          }
        },
        "a8ac281768c84f7f9ba343fadd945f64": {
          "model_module": "@jupyter-widgets/controls",
          "model_module_version": "1.5.0",
          "model_name": "FloatProgressModel",
          "state": {
            "_dom_classes": [],
            "_model_module": "@jupyter-widgets/controls",
            "_model_module_version": "1.5.0",
            "_model_name": "FloatProgressModel",
            "_view_count": null,
            "_view_module": "@jupyter-widgets/controls",
            "_view_module_version": "1.5.0",
            "_view_name": "ProgressView",
            "bar_style": "success",
            "description": "",
            "description_tooltip": null,
            "layout": "IPY_MODEL_70d63b26903e41889acd08ffab55e12a",
            "max": 48,
            "min": 0,
            "orientation": "horizontal",
            "style": "IPY_MODEL_db8e1610899f41d5ba7da83a364a125d",
            "value": 48
          }
        },
        "ab348a62cb2644ef9f240517fffc5148": {
          "model_module": "@jupyter-widgets/controls",
          "model_module_version": "1.5.0",
          "model_name": "FloatProgressModel",
          "state": {
            "_dom_classes": [],
            "_model_module": "@jupyter-widgets/controls",
            "_model_module_version": "1.5.0",
            "_model_name": "FloatProgressModel",
            "_view_count": null,
            "_view_module": "@jupyter-widgets/controls",
            "_view_module_version": "1.5.0",
            "_view_name": "ProgressView",
            "bar_style": "success",
            "description": "",
            "description_tooltip": null,
            "layout": "IPY_MODEL_b2a34a4a35354aef8fb5a9c0ff31de02",
            "max": 267954768,
            "min": 0,
            "orientation": "horizontal",
            "style": "IPY_MODEL_9fff0816dc934777b43462415a0d2ad6",
            "value": 267954768
          }
        },
        "b2a34a4a35354aef8fb5a9c0ff31de02": {
          "model_module": "@jupyter-widgets/base",
          "model_module_version": "1.2.0",
          "model_name": "LayoutModel",
          "state": {
            "_model_module": "@jupyter-widgets/base",
            "_model_module_version": "1.2.0",
            "_model_name": "LayoutModel",
            "_view_count": null,
            "_view_module": "@jupyter-widgets/base",
            "_view_module_version": "1.2.0",
            "_view_name": "LayoutView",
            "align_content": null,
            "align_items": null,
            "align_self": null,
            "border": null,
            "bottom": null,
            "display": null,
            "flex": null,
            "flex_flow": null,
            "grid_area": null,
            "grid_auto_columns": null,
            "grid_auto_flow": null,
            "grid_auto_rows": null,
            "grid_column": null,
            "grid_gap": null,
            "grid_row": null,
            "grid_template_areas": null,
            "grid_template_columns": null,
            "grid_template_rows": null,
            "height": null,
            "justify_content": null,
            "justify_items": null,
            "left": null,
            "margin": null,
            "max_height": null,
            "max_width": null,
            "min_height": null,
            "min_width": null,
            "object_fit": null,
            "object_position": null,
            "order": null,
            "overflow": null,
            "overflow_x": null,
            "overflow_y": null,
            "padding": null,
            "right": null,
            "top": null,
            "visibility": null,
            "width": null
          }
        },
        "b43bf286d4354322afcea8ec623f12fc": {
          "model_module": "@jupyter-widgets/base",
          "model_module_version": "1.2.0",
          "model_name": "LayoutModel",
          "state": {
            "_model_module": "@jupyter-widgets/base",
            "_model_module_version": "1.2.0",
            "_model_name": "LayoutModel",
            "_view_count": null,
            "_view_module": "@jupyter-widgets/base",
            "_view_module_version": "1.2.0",
            "_view_name": "LayoutView",
            "align_content": null,
            "align_items": null,
            "align_self": null,
            "border": null,
            "bottom": null,
            "display": null,
            "flex": null,
            "flex_flow": null,
            "grid_area": null,
            "grid_auto_columns": null,
            "grid_auto_flow": null,
            "grid_auto_rows": null,
            "grid_column": null,
            "grid_gap": null,
            "grid_row": null,
            "grid_template_areas": null,
            "grid_template_columns": null,
            "grid_template_rows": null,
            "height": null,
            "justify_content": null,
            "justify_items": null,
            "left": null,
            "margin": null,
            "max_height": null,
            "max_width": null,
            "min_height": null,
            "min_width": null,
            "object_fit": null,
            "object_position": null,
            "order": null,
            "overflow": null,
            "overflow_x": null,
            "overflow_y": null,
            "padding": null,
            "right": null,
            "top": null,
            "visibility": null,
            "width": null
          }
        },
        "c17cef9de61d4f46a13e204750dd058a": {
          "model_module": "@jupyter-widgets/base",
          "model_module_version": "1.2.0",
          "model_name": "LayoutModel",
          "state": {
            "_model_module": "@jupyter-widgets/base",
            "_model_module_version": "1.2.0",
            "_model_name": "LayoutModel",
            "_view_count": null,
            "_view_module": "@jupyter-widgets/base",
            "_view_module_version": "1.2.0",
            "_view_name": "LayoutView",
            "align_content": null,
            "align_items": null,
            "align_self": null,
            "border": null,
            "bottom": null,
            "display": null,
            "flex": null,
            "flex_flow": null,
            "grid_area": null,
            "grid_auto_columns": null,
            "grid_auto_flow": null,
            "grid_auto_rows": null,
            "grid_column": null,
            "grid_gap": null,
            "grid_row": null,
            "grid_template_areas": null,
            "grid_template_columns": null,
            "grid_template_rows": null,
            "height": null,
            "justify_content": null,
            "justify_items": null,
            "left": null,
            "margin": null,
            "max_height": null,
            "max_width": null,
            "min_height": null,
            "min_width": null,
            "object_fit": null,
            "object_position": null,
            "order": null,
            "overflow": null,
            "overflow_x": null,
            "overflow_y": null,
            "padding": null,
            "right": null,
            "top": null,
            "visibility": null,
            "width": null
          }
        },
        "c5472f3c9fc3471fa5358c5206d13271": {
          "model_module": "@jupyter-widgets/controls",
          "model_module_version": "1.5.0",
          "model_name": "ProgressStyleModel",
          "state": {
            "_model_module": "@jupyter-widgets/controls",
            "_model_module_version": "1.5.0",
            "_model_name": "ProgressStyleModel",
            "_view_count": null,
            "_view_module": "@jupyter-widgets/base",
            "_view_module_version": "1.2.0",
            "_view_name": "StyleView",
            "bar_color": null,
            "description_width": ""
          }
        },
        "cb0d1e5f5d08468ba24a855b16061812": {
          "model_module": "@jupyter-widgets/base",
          "model_module_version": "1.2.0",
          "model_name": "LayoutModel",
          "state": {
            "_model_module": "@jupyter-widgets/base",
            "_model_module_version": "1.2.0",
            "_model_name": "LayoutModel",
            "_view_count": null,
            "_view_module": "@jupyter-widgets/base",
            "_view_module_version": "1.2.0",
            "_view_name": "LayoutView",
            "align_content": null,
            "align_items": null,
            "align_self": null,
            "border": null,
            "bottom": null,
            "display": null,
            "flex": null,
            "flex_flow": null,
            "grid_area": null,
            "grid_auto_columns": null,
            "grid_auto_flow": null,
            "grid_auto_rows": null,
            "grid_column": null,
            "grid_gap": null,
            "grid_row": null,
            "grid_template_areas": null,
            "grid_template_columns": null,
            "grid_template_rows": null,
            "height": null,
            "justify_content": null,
            "justify_items": null,
            "left": null,
            "margin": null,
            "max_height": null,
            "max_width": null,
            "min_height": null,
            "min_width": null,
            "object_fit": null,
            "object_position": null,
            "order": null,
            "overflow": null,
            "overflow_x": null,
            "overflow_y": null,
            "padding": null,
            "right": null,
            "top": null,
            "visibility": null,
            "width": null
          }
        },
        "d3188f4f10574d438a50a5076b134668": {
          "model_module": "@jupyter-widgets/controls",
          "model_module_version": "1.5.0",
          "model_name": "HTMLModel",
          "state": {
            "_dom_classes": [],
            "_model_module": "@jupyter-widgets/controls",
            "_model_module_version": "1.5.0",
            "_model_name": "HTMLModel",
            "_view_count": null,
            "_view_module": "@jupyter-widgets/controls",
            "_view_module_version": "1.5.0",
            "_view_name": "HTMLView",
            "description": "",
            "description_tooltip": null,
            "layout": "IPY_MODEL_f4846c2151204780abf7a74d36109678",
            "placeholder": "​",
            "style": "IPY_MODEL_f5522704ef644abb9f12da1a6a5e816f",
            "value": " 483/483 [00:00&lt;00:00, 16.3kB/s]"
          }
        },
        "d75fece3716448c5a6082d36c177996c": {
          "model_module": "@jupyter-widgets/controls",
          "model_module_version": "1.5.0",
          "model_name": "HTMLModel",
          "state": {
            "_dom_classes": [],
            "_model_module": "@jupyter-widgets/controls",
            "_model_module_version": "1.5.0",
            "_model_name": "HTMLModel",
            "_view_count": null,
            "_view_module": "@jupyter-widgets/controls",
            "_view_module_version": "1.5.0",
            "_view_name": "HTMLView",
            "description": "",
            "description_tooltip": null,
            "layout": "IPY_MODEL_51344fd478c7452b85de3e52cc063e2f",
            "placeholder": "​",
            "style": "IPY_MODEL_6b6b60a11ef445c488d4b78a7b049b8d",
            "value": "tokenizer.json: 100%"
          }
        },
        "d87c5246b29349dc8aae36188f3963d4": {
          "model_module": "@jupyter-widgets/controls",
          "model_module_version": "1.5.0",
          "model_name": "HTMLModel",
          "state": {
            "_dom_classes": [],
            "_model_module": "@jupyter-widgets/controls",
            "_model_module_version": "1.5.0",
            "_model_name": "HTMLModel",
            "_view_count": null,
            "_view_module": "@jupyter-widgets/controls",
            "_view_module_version": "1.5.0",
            "_view_name": "HTMLView",
            "description": "",
            "description_tooltip": null,
            "layout": "IPY_MODEL_b43bf286d4354322afcea8ec623f12fc",
            "placeholder": "​",
            "style": "IPY_MODEL_e8f60181b4354927b23b1ac2308f4af0",
            "value": " 232k/232k [00:00&lt;00:00, 2.29MB/s]"
          }
        },
        "db8e1610899f41d5ba7da83a364a125d": {
          "model_module": "@jupyter-widgets/controls",
          "model_module_version": "1.5.0",
          "model_name": "ProgressStyleModel",
          "state": {
            "_model_module": "@jupyter-widgets/controls",
            "_model_module_version": "1.5.0",
            "_model_name": "ProgressStyleModel",
            "_view_count": null,
            "_view_module": "@jupyter-widgets/base",
            "_view_module_version": "1.2.0",
            "_view_name": "StyleView",
            "bar_color": null,
            "description_width": ""
          }
        },
        "dfad1d52d77b4c83826e717b15c77222": {
          "model_module": "@jupyter-widgets/controls",
          "model_module_version": "1.5.0",
          "model_name": "DescriptionStyleModel",
          "state": {
            "_model_module": "@jupyter-widgets/controls",
            "_model_module_version": "1.5.0",
            "_model_name": "DescriptionStyleModel",
            "_view_count": null,
            "_view_module": "@jupyter-widgets/base",
            "_view_module_version": "1.2.0",
            "_view_name": "StyleView",
            "description_width": ""
          }
        },
        "e0ae5d6eaa3044e784cf8b8659cb2137": {
          "model_module": "@jupyter-widgets/controls",
          "model_module_version": "1.5.0",
          "model_name": "DescriptionStyleModel",
          "state": {
            "_model_module": "@jupyter-widgets/controls",
            "_model_module_version": "1.5.0",
            "_model_name": "DescriptionStyleModel",
            "_view_count": null,
            "_view_module": "@jupyter-widgets/base",
            "_view_module_version": "1.2.0",
            "_view_name": "StyleView",
            "description_width": ""
          }
        },
        "e31cdfe6d3114eac858921d9be57688f": {
          "model_module": "@jupyter-widgets/controls",
          "model_module_version": "1.5.0",
          "model_name": "HBoxModel",
          "state": {
            "_dom_classes": [],
            "_model_module": "@jupyter-widgets/controls",
            "_model_module_version": "1.5.0",
            "_model_name": "HBoxModel",
            "_view_count": null,
            "_view_module": "@jupyter-widgets/controls",
            "_view_module_version": "1.5.0",
            "_view_name": "HBoxView",
            "box_style": "",
            "children": [
              "IPY_MODEL_d75fece3716448c5a6082d36c177996c",
              "IPY_MODEL_8e1757f83e9b4744a16c03cc85ac349b",
              "IPY_MODEL_581072bccdf648db918ba3094b308854"
            ],
            "layout": "IPY_MODEL_81a35d6dc46443cabcb74d1fea5e0acd"
          }
        },
        "e8f60181b4354927b23b1ac2308f4af0": {
          "model_module": "@jupyter-widgets/controls",
          "model_module_version": "1.5.0",
          "model_name": "DescriptionStyleModel",
          "state": {
            "_model_module": "@jupyter-widgets/controls",
            "_model_module_version": "1.5.0",
            "_model_name": "DescriptionStyleModel",
            "_view_count": null,
            "_view_module": "@jupyter-widgets/base",
            "_view_module_version": "1.2.0",
            "_view_name": "StyleView",
            "description_width": ""
          }
        },
        "efe8fc1dba7b4db993fc5911c78883ee": {
          "model_module": "@jupyter-widgets/controls",
          "model_module_version": "1.5.0",
          "model_name": "HBoxModel",
          "state": {
            "_dom_classes": [],
            "_model_module": "@jupyter-widgets/controls",
            "_model_module_version": "1.5.0",
            "_model_name": "HBoxModel",
            "_view_count": null,
            "_view_module": "@jupyter-widgets/controls",
            "_view_module_version": "1.5.0",
            "_view_name": "HBoxView",
            "box_style": "",
            "children": [
              "IPY_MODEL_27439f2b2ea543cfb945b65efe8d48ab",
              "IPY_MODEL_ab348a62cb2644ef9f240517fffc5148",
              "IPY_MODEL_f3a57e57a0e8400e939cdeb1d805c42c"
            ],
            "layout": "IPY_MODEL_41050f3aaad34d549cdb2d930ded3f9b"
          }
        },
        "f0ffd29b70a6489e8c1e55263eed7530": {
          "model_module": "@jupyter-widgets/controls",
          "model_module_version": "1.5.0",
          "model_name": "DescriptionStyleModel",
          "state": {
            "_model_module": "@jupyter-widgets/controls",
            "_model_module_version": "1.5.0",
            "_model_name": "DescriptionStyleModel",
            "_view_count": null,
            "_view_module": "@jupyter-widgets/base",
            "_view_module_version": "1.2.0",
            "_view_name": "StyleView",
            "description_width": ""
          }
        },
        "f3a57e57a0e8400e939cdeb1d805c42c": {
          "model_module": "@jupyter-widgets/controls",
          "model_module_version": "1.5.0",
          "model_name": "HTMLModel",
          "state": {
            "_dom_classes": [],
            "_model_module": "@jupyter-widgets/controls",
            "_model_module_version": "1.5.0",
            "_model_name": "HTMLModel",
            "_view_count": null,
            "_view_module": "@jupyter-widgets/controls",
            "_view_module_version": "1.5.0",
            "_view_name": "HTMLView",
            "description": "",
            "description_tooltip": null,
            "layout": "IPY_MODEL_7563b8b1289242f88e511d62286a7ef1",
            "placeholder": "​",
            "style": "IPY_MODEL_f0ffd29b70a6489e8c1e55263eed7530",
            "value": " 268M/268M [00:16&lt;00:00, 18.9MB/s]"
          }
        },
        "f4250a4f1ae74567ac1328df102af5d9": {
          "model_module": "@jupyter-widgets/controls",
          "model_module_version": "1.5.0",
          "model_name": "HBoxModel",
          "state": {
            "_dom_classes": [],
            "_model_module": "@jupyter-widgets/controls",
            "_model_module_version": "1.5.0",
            "_model_name": "HBoxModel",
            "_view_count": null,
            "_view_module": "@jupyter-widgets/controls",
            "_view_module_version": "1.5.0",
            "_view_name": "HBoxView",
            "box_style": "",
            "children": [
              "IPY_MODEL_40150e7f9c4f4534b8eda9e0abadebfd",
              "IPY_MODEL_a8ac281768c84f7f9ba343fadd945f64",
              "IPY_MODEL_629bc1fe40a34124924f1c185911350f"
            ],
            "layout": "IPY_MODEL_14986c8cd281494f81832ce2785f37de"
          }
        },
        "f4846c2151204780abf7a74d36109678": {
          "model_module": "@jupyter-widgets/base",
          "model_module_version": "1.2.0",
          "model_name": "LayoutModel",
          "state": {
            "_model_module": "@jupyter-widgets/base",
            "_model_module_version": "1.2.0",
            "_model_name": "LayoutModel",
            "_view_count": null,
            "_view_module": "@jupyter-widgets/base",
            "_view_module_version": "1.2.0",
            "_view_name": "LayoutView",
            "align_content": null,
            "align_items": null,
            "align_self": null,
            "border": null,
            "bottom": null,
            "display": null,
            "flex": null,
            "flex_flow": null,
            "grid_area": null,
            "grid_auto_columns": null,
            "grid_auto_flow": null,
            "grid_auto_rows": null,
            "grid_column": null,
            "grid_gap": null,
            "grid_row": null,
            "grid_template_areas": null,
            "grid_template_columns": null,
            "grid_template_rows": null,
            "height": null,
            "justify_content": null,
            "justify_items": null,
            "left": null,
            "margin": null,
            "max_height": null,
            "max_width": null,
            "min_height": null,
            "min_width": null,
            "object_fit": null,
            "object_position": null,
            "order": null,
            "overflow": null,
            "overflow_x": null,
            "overflow_y": null,
            "padding": null,
            "right": null,
            "top": null,
            "visibility": null,
            "width": null
          }
        },
        "f5522704ef644abb9f12da1a6a5e816f": {
          "model_module": "@jupyter-widgets/controls",
          "model_module_version": "1.5.0",
          "model_name": "DescriptionStyleModel",
          "state": {
            "_model_module": "@jupyter-widgets/controls",
            "_model_module_version": "1.5.0",
            "_model_name": "DescriptionStyleModel",
            "_view_count": null,
            "_view_module": "@jupyter-widgets/base",
            "_view_module_version": "1.2.0",
            "_view_name": "StyleView",
            "description_width": ""
          }
        }
      }
    }
  },
  "nbformat": 4,
  "nbformat_minor": 0
}
